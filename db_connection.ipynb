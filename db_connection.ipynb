{
 "cells": [
  {
   "cell_type": "code",
   "execution_count": 1,
   "id": "4a94d694",
   "metadata": {},
   "outputs": [
    {
     "name": "stdout",
     "output_type": "stream",
     "text": [
      "Database connected successfully\n"
     ]
    }
   ],
   "source": [
    "try:\n",
    "    # import the library to connect to db\n",
    "    import psycopg2\n",
    "    \n",
    "    # Establish a connection to the PostgreSQL server\n",
    "    host = \"localhost\"\n",
    "    user = \"postgres\"\n",
    "    password = \"mm4easy1T\"\n",
    "    conn = psycopg2.connect(host=host, user=user, password=password)\n",
    "\n",
    "    # Create a cursor object\n",
    "    cursor = conn.cursor()\n",
    "\n",
    "    # Specify the database name\n",
    "    database_name = \"pcard_expenditures\"\n",
    "\n",
    "    # If the database doesn't exist, create it    \n",
    "    cursor.execute(\"COMMIT\")  # End any active transaction\n",
    "    cursor.execute(\"CREATE SCHEMA IF NOT EXISTS {}\".format(database_name))\n",
    "    \n",
    "    # Specify the table name\n",
    "    database_name = \"pcard_expenditures\"\n",
    "    table_name = \"raw_data_transactions\"\n",
    "    # create the table that holds raw data\n",
    "    table_sql = f\"\"\"\n",
    "    CREATE TABLE IF NOT EXISTS {database_name}.{table_name} (\n",
    "        \"Division\" VARCHAR(150), \n",
    "        \"BatchTransactionID\" VARCHAR(150), \n",
    "        \"TransactionDate\" VARCHAR(150), \n",
    "        \"CardPostingDt\" VARCHAR(150), \n",
    "        \"MerchantName\" VARCHAR(150), \n",
    "        \"TransactionAmt\" VARCHAR(150), \n",
    "        \"TrxCurrency\" VARCHAR(150), \n",
    "        \"OriginalAmount\" VARCHAR(150), \n",
    "        \"OriginalCurrency\" VARCHAR(150), \n",
    "        \"GLAccount\" VARCHAR(150), \n",
    "        \"GLAccountDescription\" VARCHAR(150), \n",
    "        \"CostCenterWBSElementOrder\" VARCHAR(150), \n",
    "        \"CostCenterWBSElementOrderDescription\" VARCHAR(150), \n",
    "        \"MerchantType\" VARCHAR(150), \n",
    "        \"MerchantTypeDescription\" VARCHAR(150), \n",
    "        \"Purpose\" VARCHAR(150), \n",
    "        \"SourceFileName\" VARCHAR(150)\n",
    "    )\n",
    "    \"\"\"\n",
    "    cursor.execute(table_sql)     \n",
    "   \n",
    "    # Commit the changes\n",
    "    conn.commit()\n",
    "    \n",
    "    # save a new connection for later use\n",
    "    db_conn = psycopg2.connect(host=host, database=database_name, user=user, password=password)\n",
    "    \n",
    "    print('Database connected successfully')\n",
    "\n",
    "    # Close the cursor and the connection\n",
    "    cursor.close()\n",
    "    conn.close()\n",
    "    \n",
    "except Exception as e:\n",
    "        print(f\"An error occurred {e}\")"
   ]
  },
  {
   "cell_type": "code",
   "execution_count": null,
   "id": "5a30707f",
   "metadata": {},
   "outputs": [],
   "source": []
  }
 ],
 "metadata": {
  "kernelspec": {
   "display_name": "bma_venv",
   "language": "python",
   "name": "bma_venv"
  },
  "language_info": {
   "codemirror_mode": {
    "name": "ipython",
    "version": 3
   },
   "file_extension": ".py",
   "mimetype": "text/x-python",
   "name": "python",
   "nbconvert_exporter": "python",
   "pygments_lexer": "ipython3",
   "version": "3.9.6"
  }
 },
 "nbformat": 4,
 "nbformat_minor": 5
}
