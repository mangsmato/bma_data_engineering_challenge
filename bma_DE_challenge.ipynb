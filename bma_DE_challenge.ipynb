{
 "cells": [
  {
   "cell_type": "code",
   "execution_count": 55,
   "id": "3bb5d968",
   "metadata": {},
   "outputs": [],
   "source": [
    "# import necessary modules\n",
    "import pandas as pd\n",
    "import requests\n",
    "import zipfile\n",
    "import os"
   ]
  },
  {
   "cell_type": "code",
   "execution_count": 56,
   "id": "6b719f4a",
   "metadata": {},
   "outputs": [],
   "source": [
    "# Set display option to show all columns\n",
    "pd.set_option('display.max_columns', None)"
   ]
  },
  {
   "cell_type": "code",
   "execution_count": 32,
   "id": "c780fc49",
   "metadata": {},
   "outputs": [
    {
     "name": "stdout",
     "output_type": "stream",
     "text": [
      "Data folder created successfully\n"
     ]
    }
   ],
   "source": [
    "# create a folder to hold the data\n",
    "data_folder = 'Data'\n",
    "# Check if the folder exists\n",
    "if not os.path.exists(data_folder):\n",
    "    # Create the folder\n",
    "    os.makedirs(data_folder)\n",
    "    print(f'{data_folder} folder created successfully')\n",
    "else:\n",
    "    print(f'{data_folder} folder already exists')"
   ]
  },
  {
   "cell_type": "code",
   "execution_count": 12,
   "id": "235f9ac1",
   "metadata": {
    "scrolled": true
   },
   "outputs": [
    {
     "name": "stderr",
     "output_type": "stream",
     "text": [
      "C:\\Users\\mmangoli\\AppData\\Local\\Programs\\Python\\Python39\\lib\\site-packages\\urllib3\\connectionpool.py:1013: InsecureRequestWarning: Unverified HTTPS request is being made to host 'ckan0.cf.opendata.inter.prod-toronto.ca'. Adding certificate verification is strongly advised. See: https://urllib3.readthedocs.io/en/1.26.x/advanced-usage.html#ssl-warnings\n",
      "  warnings.warn(\n"
     ]
    }
   ],
   "source": [
    "# url of the API\n",
    "base_url = \"https://ckan0.cf.opendata.inter.prod-toronto.ca\"\n",
    "\n",
    "# retrieve the metadata for pcard-expenditures package and its resources\n",
    "url = base_url + \"/api/3/action/package_show\"\n",
    "params = { \"id\": \"pcard-expenditures\"}\n",
    "package = requests.get(url, params = params, verify=False).json()"
   ]
  },
  {
   "cell_type": "code",
   "execution_count": 13,
   "id": "d6911593",
   "metadata": {},
   "outputs": [
    {
     "data": {
      "text/plain": [
       "{'help': 'https://ckan0.cf.opendata.inter.prod-toronto.ca/api/3/action/help_show?name=package_show',\n",
       " 'success': True,\n",
       " 'result': {'author': 'pcard@toronto.ca',\n",
       "  'author_email': 'pcard@toronto.ca',\n",
       "  'civic_issues': 'Fiscal responsibility',\n",
       "  'creator_user_id': '329e1506-b545-4fc7-a4ea-e614f220eea7',\n",
       "  'dataset_category': 'Document',\n",
       "  'date_published': '2019-07-23 17:52:47.150105',\n",
       "  'excerpt': 'The dataset contains details of all purchases made by City staff members using City-issued credit cards also referred to as PCards or purchasing cards.   ',\n",
       "  'formats': 'ZIP,XLS',\n",
       "  'id': 'ebc3f9c2-2f80-4405-bf4f-5fb309581485',\n",
       "  'information_url': 'http://www.toronto.ca/finance/index.htm',\n",
       "  'is_retired': 'false',\n",
       "  'isopen': False,\n",
       "  'last_refreshed': '2019-09-03 19:44:00',\n",
       "  'license_id': 'open-government-licence-toronto',\n",
       "  'license_title': 'open-government-licence-toronto',\n",
       "  'maintainer': None,\n",
       "  'maintainer_email': 'pcard@toronto.ca',\n",
       "  'metadata_created': '2022-03-10T19:34:25.429521',\n",
       "  'metadata_modified': '2022-03-11T18:09:02.599403',\n",
       "  'name': 'pcard-expenditures',\n",
       "  'notes': '\\n\\nSee README file (PCard Expenditures Readme.xls)\\n\\nCouncil PCard expenses are not included in this report. Councillor expenses are disclosed separately through the quarterly Councillor Office Expense Reports.\\n\\nPCard expenses for the Offices of the Auditor General, Integrity Commissioner, Lobbyist Registrar and Ombudsman are not included as part of this report. PCard expenses for these offices are posted separately on the websites of the Offices of the Auditor General, Integrity Commissioner, Lobbyist Registrar and Ombudsman.\\n',\n",
       "  'num_resources': 2,\n",
       "  'num_tags': 2,\n",
       "  'organization': {'id': '6ed95875-f7d6-4200-964c-91024cc49cba',\n",
       "   'name': 'city-of-toronto',\n",
       "   'title': 'City of Toronto',\n",
       "   'type': 'organization',\n",
       "   'description': '',\n",
       "   'image_url': '',\n",
       "   'created': '2022-03-10T15:38:51.044746',\n",
       "   'is_organization': True,\n",
       "   'approval_status': 'approved',\n",
       "   'state': 'active'},\n",
       "  'owner_division': 'Accounting Services',\n",
       "  'owner_email': 'pcard@toronto.ca',\n",
       "  'owner_org': '6ed95875-f7d6-4200-964c-91024cc49cba',\n",
       "  'private': False,\n",
       "  'refresh_rate': 'Monthly',\n",
       "  'state': 'active',\n",
       "  'title': 'PCard Expenditures',\n",
       "  'topics': 'City government,Finance',\n",
       "  'type': 'dataset',\n",
       "  'version': None,\n",
       "  'resources': [{'cache_last_updated': None,\n",
       "    'cache_url': None,\n",
       "    'created': '2019-07-23T17:52:47.544377',\n",
       "    'datastore_active': False,\n",
       "    'format': 'XLS',\n",
       "    'hash': '',\n",
       "    'id': '070bdbd3-9bae-4269-b096-e3a8bd7460c8',\n",
       "    'is_datastore_cache_file': False,\n",
       "    'is_preview': False,\n",
       "    'last_modified': '2019-07-24T20:25:05.559452',\n",
       "    'metadata_modified': '2022-03-10T19:34:26.259146',\n",
       "    'mimetype': 'application/vnd.ms-excel',\n",
       "    'mimetype_inner': None,\n",
       "    'name': 'readme-file',\n",
       "    'package_id': 'ebc3f9c2-2f80-4405-bf4f-5fb309581485',\n",
       "    'position': 0,\n",
       "    'resource_type': None,\n",
       "    'revision_id': '2b64cfe2-0a96-4243-9eff-f27237c602c2',\n",
       "    'size': 26624,\n",
       "    'state': 'active',\n",
       "    'url': 'https://ckan0.cf.opendata.inter.prod-toronto.ca/dataset/ebc3f9c2-2f80-4405-bf4f-5fb309581485/resource/070bdbd3-9bae-4269-b096-e3a8bd7460c8/download/pcard_expenditures_readme.xls',\n",
       "    'url_type': 'upload'},\n",
       "   {'cache_last_updated': None,\n",
       "    'cache_url': None,\n",
       "    'created': '2022-03-10T19:35:14.508796',\n",
       "    'datastore_active': False,\n",
       "    'format': 'ZIP',\n",
       "    'hash': '',\n",
       "    'id': 'd83a5249-fb07-4c38-9145-9e12a32ce1d4',\n",
       "    'last_modified': '2019-09-03T19:44:00',\n",
       "    'metadata_modified': '2022-03-11T18:09:02.266194',\n",
       "    'mimetype': 'application/zip',\n",
       "    'mimetype_inner': None,\n",
       "    'name': 'pcard-expenses',\n",
       "    'package_id': 'ebc3f9c2-2f80-4405-bf4f-5fb309581485',\n",
       "    'position': 1,\n",
       "    'resource_type': None,\n",
       "    'size': 46902535,\n",
       "    'state': 'active',\n",
       "    'url': 'https://ckan0.cf.opendata.inter.prod-toronto.ca/dataset/ebc3f9c2-2f80-4405-bf4f-5fb309581485/resource/d83a5249-fb07-4c38-9145-9e12a32ce1d4/download/expenditures.zip',\n",
       "    'url_type': 'upload'}],\n",
       "  'tags': [{'display_name': 'council spending',\n",
       "    'id': 'fef1c8af-b4b6-4c59-be26-71d928f1fb75',\n",
       "    'name': 'council spending',\n",
       "    'state': 'active',\n",
       "    'vocabulary_id': None},\n",
       "   {'display_name': 'pcard',\n",
       "    'id': '7aa9f7ab-9f4a-4e4c-9c79-042b15973dbe',\n",
       "    'name': 'pcard',\n",
       "    'state': 'active',\n",
       "    'vocabulary_id': None}],\n",
       "  'groups': [],\n",
       "  'relationships_as_subject': [],\n",
       "  'relationships_as_object': []}}"
      ]
     },
     "execution_count": 13,
     "metadata": {},
     "output_type": "execute_result"
    }
   ],
   "source": [
    "package"
   ]
  },
  {
   "cell_type": "code",
   "execution_count": 14,
   "id": "595c951b",
   "metadata": {},
   "outputs": [
    {
     "data": {
      "text/plain": [
       "dict_keys(['help', 'success', 'result'])"
      ]
     },
     "execution_count": 14,
     "metadata": {},
     "output_type": "execute_result"
    }
   ],
   "source": [
    "package.keys()"
   ]
  },
  {
   "cell_type": "code",
   "execution_count": 18,
   "id": "e3443052",
   "metadata": {},
   "outputs": [
    {
     "name": "stdout",
     "output_type": "stream",
     "text": [
      "XLS https://ckan0.cf.opendata.inter.prod-toronto.ca/dataset/ebc3f9c2-2f80-4405-bf4f-5fb309581485/resource/070bdbd3-9bae-4269-b096-e3a8bd7460c8/download/pcard_expenditures_readme.xls\n",
      "ZIP https://ckan0.cf.opendata.inter.prod-toronto.ca/dataset/ebc3f9c2-2f80-4405-bf4f-5fb309581485/resource/d83a5249-fb07-4c38-9145-9e12a32ce1d4/download/expenditures.zip\n",
      "Link for data https://ckan0.cf.opendata.inter.prod-toronto.ca/dataset/ebc3f9c2-2f80-4405-bf4f-5fb309581485/resource/d83a5249-fb07-4c38-9145-9e12a32ce1d4/download/expenditures.zip\n"
     ]
    }
   ],
   "source": [
    "# get the urls with data\n",
    "data_url = ''\n",
    "for r in package['result']['resources']:\n",
    "    print(r['format'],r['url'])\n",
    "    if r['format'] == 'ZIP':\n",
    "        data_url = r['url']\n",
    "\n",
    "print(f'Link for data {data_url}')"
   ]
  },
  {
   "cell_type": "code",
   "execution_count": 33,
   "id": "8cf67e07",
   "metadata": {},
   "outputs": [
    {
     "name": "stderr",
     "output_type": "stream",
     "text": [
      "C:\\Users\\mmangoli\\AppData\\Local\\Programs\\Python\\Python39\\lib\\site-packages\\urllib3\\connectionpool.py:1013: InsecureRequestWarning: Unverified HTTPS request is being made to host 'ckan0.cf.opendata.inter.prod-toronto.ca'. Adding certificate verification is strongly advised. See: https://urllib3.readthedocs.io/en/1.26.x/advanced-usage.html#ssl-warnings\n",
      "  warnings.warn(\n"
     ]
    }
   ],
   "source": [
    "# Send a GET request to the URL\n",
    "data_response = requests.get(data_url, verify=False)"
   ]
  },
  {
   "cell_type": "code",
   "execution_count": 43,
   "id": "021469cd",
   "metadata": {},
   "outputs": [],
   "source": [
    "# Save the content of the response to a file\n",
    "downloaded_zip = 'expenditures.zip'\n",
    "with open(downloaded_zip, \"wb\") as file:\n",
    "    file.write(data_response.content)"
   ]
  },
  {
   "cell_type": "code",
   "execution_count": 44,
   "id": "3e1ed41c",
   "metadata": {},
   "outputs": [],
   "source": [
    "# we want to extract the contents of the downloaded zip folder\n",
    "# Open the ZIP file\n",
    "with zipfile.ZipFile(downloaded_zip,'r') as zip_obj:\n",
    "    # extract the data into the data folder we created\n",
    "    zip_obj.extractall(data_folder)"
   ]
  },
  {
   "cell_type": "code",
   "execution_count": 57,
   "id": "590fc64f",
   "metadata": {
    "scrolled": true
   },
   "outputs": [
    {
     "name": "stdout",
     "output_type": "stream",
     "text": [
      "we shall import data from 103 files\n",
      "1. data from PCard Expenses_201706.xlsx imported successfully. Rows: 6281. Columns: 17\n",
      "2. data from PCard Expenses_201707.xlsx imported successfully. Rows: 6610. Columns: 17\n",
      "3. data from PCard Expenses_201708.xlsx imported successfully. Rows: 5648. Columns: 17\n",
      "4. data from PCard Expenses_201709.xlsx imported successfully. Rows: 4831. Columns: 17\n",
      "5. data from PCard Expenses_201710.xlsx imported successfully. Rows: 5756. Columns: 17\n"
     ]
    },
    {
     "ename": "KeyboardInterrupt",
     "evalue": "",
     "output_type": "error",
     "traceback": [
      "\u001b[1;31m---------------------------------------------------------------------------\u001b[0m",
      "\u001b[1;31mKeyboardInterrupt\u001b[0m                         Traceback (most recent call last)",
      "\u001b[1;32m~\\AppData\\Local\\Temp/ipykernel_1276/1690160324.py\u001b[0m in \u001b[0;36m<module>\u001b[1;34m\u001b[0m\n\u001b[0;32m     12\u001b[0m \u001b[1;32mfor\u001b[0m \u001b[0mfile\u001b[0m \u001b[1;32min\u001b[0m \u001b[0mli_files\u001b[0m\u001b[1;33m:\u001b[0m\u001b[1;33m\u001b[0m\u001b[1;33m\u001b[0m\u001b[0m\n\u001b[0;32m     13\u001b[0m     \u001b[1;31m# import the data from the files\u001b[0m\u001b[1;33m\u001b[0m\u001b[1;33m\u001b[0m\u001b[1;33m\u001b[0m\u001b[0m\n\u001b[1;32m---> 14\u001b[1;33m     \u001b[0mdf\u001b[0m \u001b[1;33m=\u001b[0m \u001b[0mpd\u001b[0m\u001b[1;33m.\u001b[0m\u001b[0mread_excel\u001b[0m\u001b[1;33m(\u001b[0m\u001b[0mdata_folder\u001b[0m \u001b[1;33m+\u001b[0m \u001b[1;34m'\\\\'\u001b[0m \u001b[1;33m+\u001b[0m \u001b[0mfile\u001b[0m\u001b[1;33m)\u001b[0m\u001b[1;33m\u001b[0m\u001b[1;33m\u001b[0m\u001b[0m\n\u001b[0m\u001b[0;32m     15\u001b[0m     \u001b[1;31m# add a column to idenfity which file we extracted the data from\u001b[0m\u001b[1;33m\u001b[0m\u001b[1;33m\u001b[0m\u001b[1;33m\u001b[0m\u001b[0m\n\u001b[0;32m     16\u001b[0m     \u001b[0mdf\u001b[0m\u001b[1;33m[\u001b[0m\u001b[1;34m'Source_File_Name'\u001b[0m\u001b[1;33m]\u001b[0m \u001b[1;33m=\u001b[0m \u001b[0mfile\u001b[0m\u001b[1;33m\u001b[0m\u001b[1;33m\u001b[0m\u001b[0m\n",
      "\u001b[1;32m~\\AppData\\Local\\Programs\\Python\\Python39\\lib\\site-packages\\pandas\\util\\_decorators.py\u001b[0m in \u001b[0;36mwrapper\u001b[1;34m(*args, **kwargs)\u001b[0m\n\u001b[0;32m    309\u001b[0m                     \u001b[0mstacklevel\u001b[0m\u001b[1;33m=\u001b[0m\u001b[0mstacklevel\u001b[0m\u001b[1;33m,\u001b[0m\u001b[1;33m\u001b[0m\u001b[1;33m\u001b[0m\u001b[0m\n\u001b[0;32m    310\u001b[0m                 )\n\u001b[1;32m--> 311\u001b[1;33m             \u001b[1;32mreturn\u001b[0m \u001b[0mfunc\u001b[0m\u001b[1;33m(\u001b[0m\u001b[1;33m*\u001b[0m\u001b[0margs\u001b[0m\u001b[1;33m,\u001b[0m \u001b[1;33m**\u001b[0m\u001b[0mkwargs\u001b[0m\u001b[1;33m)\u001b[0m\u001b[1;33m\u001b[0m\u001b[1;33m\u001b[0m\u001b[0m\n\u001b[0m\u001b[0;32m    312\u001b[0m \u001b[1;33m\u001b[0m\u001b[0m\n\u001b[0;32m    313\u001b[0m         \u001b[1;32mreturn\u001b[0m \u001b[0mwrapper\u001b[0m\u001b[1;33m\u001b[0m\u001b[1;33m\u001b[0m\u001b[0m\n",
      "\u001b[1;32m~\\AppData\\Local\\Programs\\Python\\Python39\\lib\\site-packages\\pandas\\io\\excel\\_base.py\u001b[0m in \u001b[0;36mread_excel\u001b[1;34m(io, sheet_name, header, names, index_col, usecols, squeeze, dtype, engine, converters, true_values, false_values, skiprows, nrows, na_values, keep_default_na, na_filter, verbose, parse_dates, date_parser, thousands, comment, skipfooter, convert_float, mangle_dupe_cols, storage_options)\u001b[0m\n\u001b[0;32m    362\u001b[0m     \u001b[1;32mif\u001b[0m \u001b[1;32mnot\u001b[0m \u001b[0misinstance\u001b[0m\u001b[1;33m(\u001b[0m\u001b[0mio\u001b[0m\u001b[1;33m,\u001b[0m \u001b[0mExcelFile\u001b[0m\u001b[1;33m)\u001b[0m\u001b[1;33m:\u001b[0m\u001b[1;33m\u001b[0m\u001b[1;33m\u001b[0m\u001b[0m\n\u001b[0;32m    363\u001b[0m         \u001b[0mshould_close\u001b[0m \u001b[1;33m=\u001b[0m \u001b[1;32mTrue\u001b[0m\u001b[1;33m\u001b[0m\u001b[1;33m\u001b[0m\u001b[0m\n\u001b[1;32m--> 364\u001b[1;33m         \u001b[0mio\u001b[0m \u001b[1;33m=\u001b[0m \u001b[0mExcelFile\u001b[0m\u001b[1;33m(\u001b[0m\u001b[0mio\u001b[0m\u001b[1;33m,\u001b[0m \u001b[0mstorage_options\u001b[0m\u001b[1;33m=\u001b[0m\u001b[0mstorage_options\u001b[0m\u001b[1;33m,\u001b[0m \u001b[0mengine\u001b[0m\u001b[1;33m=\u001b[0m\u001b[0mengine\u001b[0m\u001b[1;33m)\u001b[0m\u001b[1;33m\u001b[0m\u001b[1;33m\u001b[0m\u001b[0m\n\u001b[0m\u001b[0;32m    365\u001b[0m     \u001b[1;32melif\u001b[0m \u001b[0mengine\u001b[0m \u001b[1;32mand\u001b[0m \u001b[0mengine\u001b[0m \u001b[1;33m!=\u001b[0m \u001b[0mio\u001b[0m\u001b[1;33m.\u001b[0m\u001b[0mengine\u001b[0m\u001b[1;33m:\u001b[0m\u001b[1;33m\u001b[0m\u001b[1;33m\u001b[0m\u001b[0m\n\u001b[0;32m    366\u001b[0m         raise ValueError(\n",
      "\u001b[1;32m~\\AppData\\Local\\Programs\\Python\\Python39\\lib\\site-packages\\pandas\\io\\excel\\_base.py\u001b[0m in \u001b[0;36m__init__\u001b[1;34m(self, path_or_buffer, engine, storage_options)\u001b[0m\n\u001b[0;32m   1231\u001b[0m         \u001b[0mself\u001b[0m\u001b[1;33m.\u001b[0m\u001b[0mstorage_options\u001b[0m \u001b[1;33m=\u001b[0m \u001b[0mstorage_options\u001b[0m\u001b[1;33m\u001b[0m\u001b[1;33m\u001b[0m\u001b[0m\n\u001b[0;32m   1232\u001b[0m \u001b[1;33m\u001b[0m\u001b[0m\n\u001b[1;32m-> 1233\u001b[1;33m         \u001b[0mself\u001b[0m\u001b[1;33m.\u001b[0m\u001b[0m_reader\u001b[0m \u001b[1;33m=\u001b[0m \u001b[0mself\u001b[0m\u001b[1;33m.\u001b[0m\u001b[0m_engines\u001b[0m\u001b[1;33m[\u001b[0m\u001b[0mengine\u001b[0m\u001b[1;33m]\u001b[0m\u001b[1;33m(\u001b[0m\u001b[0mself\u001b[0m\u001b[1;33m.\u001b[0m\u001b[0m_io\u001b[0m\u001b[1;33m,\u001b[0m \u001b[0mstorage_options\u001b[0m\u001b[1;33m=\u001b[0m\u001b[0mstorage_options\u001b[0m\u001b[1;33m)\u001b[0m\u001b[1;33m\u001b[0m\u001b[1;33m\u001b[0m\u001b[0m\n\u001b[0m\u001b[0;32m   1234\u001b[0m \u001b[1;33m\u001b[0m\u001b[0m\n\u001b[0;32m   1235\u001b[0m     \u001b[1;32mdef\u001b[0m \u001b[0m__fspath__\u001b[0m\u001b[1;33m(\u001b[0m\u001b[0mself\u001b[0m\u001b[1;33m)\u001b[0m\u001b[1;33m:\u001b[0m\u001b[1;33m\u001b[0m\u001b[1;33m\u001b[0m\u001b[0m\n",
      "\u001b[1;32m~\\AppData\\Local\\Programs\\Python\\Python39\\lib\\site-packages\\pandas\\io\\excel\\_openpyxl.py\u001b[0m in \u001b[0;36m__init__\u001b[1;34m(self, filepath_or_buffer, storage_options)\u001b[0m\n\u001b[0;32m    520\u001b[0m         \"\"\"\n\u001b[0;32m    521\u001b[0m         \u001b[0mimport_optional_dependency\u001b[0m\u001b[1;33m(\u001b[0m\u001b[1;34m\"openpyxl\"\u001b[0m\u001b[1;33m)\u001b[0m\u001b[1;33m\u001b[0m\u001b[1;33m\u001b[0m\u001b[0m\n\u001b[1;32m--> 522\u001b[1;33m         \u001b[0msuper\u001b[0m\u001b[1;33m(\u001b[0m\u001b[1;33m)\u001b[0m\u001b[1;33m.\u001b[0m\u001b[0m__init__\u001b[0m\u001b[1;33m(\u001b[0m\u001b[0mfilepath_or_buffer\u001b[0m\u001b[1;33m,\u001b[0m \u001b[0mstorage_options\u001b[0m\u001b[1;33m=\u001b[0m\u001b[0mstorage_options\u001b[0m\u001b[1;33m)\u001b[0m\u001b[1;33m\u001b[0m\u001b[1;33m\u001b[0m\u001b[0m\n\u001b[0m\u001b[0;32m    523\u001b[0m \u001b[1;33m\u001b[0m\u001b[0m\n\u001b[0;32m    524\u001b[0m     \u001b[1;33m@\u001b[0m\u001b[0mproperty\u001b[0m\u001b[1;33m\u001b[0m\u001b[1;33m\u001b[0m\u001b[0m\n",
      "\u001b[1;32m~\\AppData\\Local\\Programs\\Python\\Python39\\lib\\site-packages\\pandas\\io\\excel\\_base.py\u001b[0m in \u001b[0;36m__init__\u001b[1;34m(self, filepath_or_buffer, storage_options)\u001b[0m\n\u001b[0;32m    418\u001b[0m             \u001b[0mself\u001b[0m\u001b[1;33m.\u001b[0m\u001b[0mhandles\u001b[0m\u001b[1;33m.\u001b[0m\u001b[0mhandle\u001b[0m\u001b[1;33m.\u001b[0m\u001b[0mseek\u001b[0m\u001b[1;33m(\u001b[0m\u001b[1;36m0\u001b[0m\u001b[1;33m)\u001b[0m\u001b[1;33m\u001b[0m\u001b[1;33m\u001b[0m\u001b[0m\n\u001b[0;32m    419\u001b[0m             \u001b[1;32mtry\u001b[0m\u001b[1;33m:\u001b[0m\u001b[1;33m\u001b[0m\u001b[1;33m\u001b[0m\u001b[0m\n\u001b[1;32m--> 420\u001b[1;33m                 \u001b[0mself\u001b[0m\u001b[1;33m.\u001b[0m\u001b[0mbook\u001b[0m \u001b[1;33m=\u001b[0m \u001b[0mself\u001b[0m\u001b[1;33m.\u001b[0m\u001b[0mload_workbook\u001b[0m\u001b[1;33m(\u001b[0m\u001b[0mself\u001b[0m\u001b[1;33m.\u001b[0m\u001b[0mhandles\u001b[0m\u001b[1;33m.\u001b[0m\u001b[0mhandle\u001b[0m\u001b[1;33m)\u001b[0m\u001b[1;33m\u001b[0m\u001b[1;33m\u001b[0m\u001b[0m\n\u001b[0m\u001b[0;32m    421\u001b[0m             \u001b[1;32mexcept\u001b[0m \u001b[0mException\u001b[0m\u001b[1;33m:\u001b[0m\u001b[1;33m\u001b[0m\u001b[1;33m\u001b[0m\u001b[0m\n\u001b[0;32m    422\u001b[0m                 \u001b[0mself\u001b[0m\u001b[1;33m.\u001b[0m\u001b[0mclose\u001b[0m\u001b[1;33m(\u001b[0m\u001b[1;33m)\u001b[0m\u001b[1;33m\u001b[0m\u001b[1;33m\u001b[0m\u001b[0m\n",
      "\u001b[1;32m~\\AppData\\Local\\Programs\\Python\\Python39\\lib\\site-packages\\pandas\\io\\excel\\_openpyxl.py\u001b[0m in \u001b[0;36mload_workbook\u001b[1;34m(self, filepath_or_buffer)\u001b[0m\n\u001b[0;32m    531\u001b[0m         \u001b[1;32mfrom\u001b[0m \u001b[0mopenpyxl\u001b[0m \u001b[1;32mimport\u001b[0m \u001b[0mload_workbook\u001b[0m\u001b[1;33m\u001b[0m\u001b[1;33m\u001b[0m\u001b[0m\n\u001b[0;32m    532\u001b[0m \u001b[1;33m\u001b[0m\u001b[0m\n\u001b[1;32m--> 533\u001b[1;33m         return load_workbook(\n\u001b[0m\u001b[0;32m    534\u001b[0m             \u001b[0mfilepath_or_buffer\u001b[0m\u001b[1;33m,\u001b[0m \u001b[0mread_only\u001b[0m\u001b[1;33m=\u001b[0m\u001b[1;32mTrue\u001b[0m\u001b[1;33m,\u001b[0m \u001b[0mdata_only\u001b[0m\u001b[1;33m=\u001b[0m\u001b[1;32mTrue\u001b[0m\u001b[1;33m,\u001b[0m \u001b[0mkeep_links\u001b[0m\u001b[1;33m=\u001b[0m\u001b[1;32mFalse\u001b[0m\u001b[1;33m\u001b[0m\u001b[1;33m\u001b[0m\u001b[0m\n\u001b[0;32m    535\u001b[0m         )\n",
      "\u001b[1;32m~\\AppData\\Local\\Programs\\Python\\Python39\\lib\\site-packages\\openpyxl\\reader\\excel.py\u001b[0m in \u001b[0;36mload_workbook\u001b[1;34m(filename, read_only, keep_vba, data_only, keep_links, rich_text)\u001b[0m\n\u001b[0;32m    344\u001b[0m     reader = ExcelReader(filename, read_only, keep_vba,\n\u001b[0;32m    345\u001b[0m                          data_only, keep_links, rich_text)\n\u001b[1;32m--> 346\u001b[1;33m     \u001b[0mreader\u001b[0m\u001b[1;33m.\u001b[0m\u001b[0mread\u001b[0m\u001b[1;33m(\u001b[0m\u001b[1;33m)\u001b[0m\u001b[1;33m\u001b[0m\u001b[1;33m\u001b[0m\u001b[0m\n\u001b[0m\u001b[0;32m    347\u001b[0m     \u001b[1;32mreturn\u001b[0m \u001b[0mreader\u001b[0m\u001b[1;33m.\u001b[0m\u001b[0mwb\u001b[0m\u001b[1;33m\u001b[0m\u001b[1;33m\u001b[0m\u001b[0m\n",
      "\u001b[1;32m~\\AppData\\Local\\Programs\\Python\\Python39\\lib\\site-packages\\openpyxl\\reader\\excel.py\u001b[0m in \u001b[0;36mread\u001b[1;34m(self)\u001b[0m\n\u001b[0;32m    287\u001b[0m             \u001b[0mself\u001b[0m\u001b[1;33m.\u001b[0m\u001b[0mread_manifest\u001b[0m\u001b[1;33m(\u001b[0m\u001b[1;33m)\u001b[0m\u001b[1;33m\u001b[0m\u001b[1;33m\u001b[0m\u001b[0m\n\u001b[0;32m    288\u001b[0m             \u001b[0maction\u001b[0m \u001b[1;33m=\u001b[0m \u001b[1;34m\"read strings\"\u001b[0m\u001b[1;33m\u001b[0m\u001b[1;33m\u001b[0m\u001b[0m\n\u001b[1;32m--> 289\u001b[1;33m             \u001b[0mself\u001b[0m\u001b[1;33m.\u001b[0m\u001b[0mread_strings\u001b[0m\u001b[1;33m(\u001b[0m\u001b[1;33m)\u001b[0m\u001b[1;33m\u001b[0m\u001b[1;33m\u001b[0m\u001b[0m\n\u001b[0m\u001b[0;32m    290\u001b[0m             \u001b[0maction\u001b[0m \u001b[1;33m=\u001b[0m \u001b[1;34m\"read workbook\"\u001b[0m\u001b[1;33m\u001b[0m\u001b[1;33m\u001b[0m\u001b[0m\n\u001b[0;32m    291\u001b[0m             \u001b[0mself\u001b[0m\u001b[1;33m.\u001b[0m\u001b[0mread_workbook\u001b[0m\u001b[1;33m(\u001b[0m\u001b[1;33m)\u001b[0m\u001b[1;33m\u001b[0m\u001b[1;33m\u001b[0m\u001b[0m\n",
      "\u001b[1;32m~\\AppData\\Local\\Programs\\Python\\Python39\\lib\\site-packages\\openpyxl\\reader\\excel.py\u001b[0m in \u001b[0;36mread_strings\u001b[1;34m(self)\u001b[0m\n\u001b[0;32m    145\u001b[0m             \u001b[0mstrings_path\u001b[0m \u001b[1;33m=\u001b[0m \u001b[0mct\u001b[0m\u001b[1;33m.\u001b[0m\u001b[0mPartName\u001b[0m\u001b[1;33m[\u001b[0m\u001b[1;36m1\u001b[0m\u001b[1;33m:\u001b[0m\u001b[1;33m]\u001b[0m\u001b[1;33m\u001b[0m\u001b[1;33m\u001b[0m\u001b[0m\n\u001b[0;32m    146\u001b[0m             \u001b[1;32mwith\u001b[0m \u001b[0mself\u001b[0m\u001b[1;33m.\u001b[0m\u001b[0marchive\u001b[0m\u001b[1;33m.\u001b[0m\u001b[0mopen\u001b[0m\u001b[1;33m(\u001b[0m\u001b[0mstrings_path\u001b[0m\u001b[1;33m,\u001b[0m\u001b[1;33m)\u001b[0m \u001b[1;32mas\u001b[0m \u001b[0msrc\u001b[0m\u001b[1;33m:\u001b[0m\u001b[1;33m\u001b[0m\u001b[1;33m\u001b[0m\u001b[0m\n\u001b[1;32m--> 147\u001b[1;33m                 \u001b[0mself\u001b[0m\u001b[1;33m.\u001b[0m\u001b[0mshared_strings\u001b[0m \u001b[1;33m=\u001b[0m \u001b[0mreader\u001b[0m\u001b[1;33m(\u001b[0m\u001b[0msrc\u001b[0m\u001b[1;33m)\u001b[0m\u001b[1;33m\u001b[0m\u001b[1;33m\u001b[0m\u001b[0m\n\u001b[0m\u001b[0;32m    148\u001b[0m \u001b[1;33m\u001b[0m\u001b[0m\n\u001b[0;32m    149\u001b[0m \u001b[1;33m\u001b[0m\u001b[0m\n",
      "\u001b[1;32m~\\AppData\\Local\\Programs\\Python\\Python39\\lib\\site-packages\\openpyxl\\reader\\strings.py\u001b[0m in \u001b[0;36mread_string_table\u001b[1;34m(xml_source)\u001b[0m\n\u001b[0;32m     16\u001b[0m     \u001b[1;32mfor\u001b[0m \u001b[0m_\u001b[0m\u001b[1;33m,\u001b[0m \u001b[0mnode\u001b[0m \u001b[1;32min\u001b[0m \u001b[0miterparse\u001b[0m\u001b[1;33m(\u001b[0m\u001b[0mxml_source\u001b[0m\u001b[1;33m)\u001b[0m\u001b[1;33m:\u001b[0m\u001b[1;33m\u001b[0m\u001b[1;33m\u001b[0m\u001b[0m\n\u001b[0;32m     17\u001b[0m         \u001b[1;32mif\u001b[0m \u001b[0mnode\u001b[0m\u001b[1;33m.\u001b[0m\u001b[0mtag\u001b[0m \u001b[1;33m==\u001b[0m \u001b[0mSTRING_TAG\u001b[0m\u001b[1;33m:\u001b[0m\u001b[1;33m\u001b[0m\u001b[1;33m\u001b[0m\u001b[0m\n\u001b[1;32m---> 18\u001b[1;33m             \u001b[0mtext\u001b[0m \u001b[1;33m=\u001b[0m \u001b[0mText\u001b[0m\u001b[1;33m.\u001b[0m\u001b[0mfrom_tree\u001b[0m\u001b[1;33m(\u001b[0m\u001b[0mnode\u001b[0m\u001b[1;33m)\u001b[0m\u001b[1;33m.\u001b[0m\u001b[0mcontent\u001b[0m\u001b[1;33m\u001b[0m\u001b[1;33m\u001b[0m\u001b[0m\n\u001b[0m\u001b[0;32m     19\u001b[0m             \u001b[0mtext\u001b[0m \u001b[1;33m=\u001b[0m \u001b[0mtext\u001b[0m\u001b[1;33m.\u001b[0m\u001b[0mreplace\u001b[0m\u001b[1;33m(\u001b[0m\u001b[1;34m'x005F_'\u001b[0m\u001b[1;33m,\u001b[0m \u001b[1;34m''\u001b[0m\u001b[1;33m)\u001b[0m\u001b[1;33m\u001b[0m\u001b[1;33m\u001b[0m\u001b[0m\n\u001b[0;32m     20\u001b[0m             \u001b[0mnode\u001b[0m\u001b[1;33m.\u001b[0m\u001b[0mclear\u001b[0m\u001b[1;33m(\u001b[0m\u001b[1;33m)\u001b[0m\u001b[1;33m\u001b[0m\u001b[1;33m\u001b[0m\u001b[0m\n",
      "\u001b[1;32m~\\AppData\\Local\\Programs\\Python\\Python39\\lib\\site-packages\\openpyxl\\cell\\text.py\u001b[0m in \u001b[0;36mcontent\u001b[1;34m(self)\u001b[0m\n\u001b[0;32m    179\u001b[0m         \u001b[1;32mif\u001b[0m \u001b[0mself\u001b[0m\u001b[1;33m.\u001b[0m\u001b[0mplain\u001b[0m \u001b[1;32mis\u001b[0m \u001b[1;32mnot\u001b[0m \u001b[1;32mNone\u001b[0m\u001b[1;33m:\u001b[0m\u001b[1;33m\u001b[0m\u001b[1;33m\u001b[0m\u001b[0m\n\u001b[0;32m    180\u001b[0m             \u001b[0msnippets\u001b[0m\u001b[1;33m.\u001b[0m\u001b[0mappend\u001b[0m\u001b[1;33m(\u001b[0m\u001b[0mself\u001b[0m\u001b[1;33m.\u001b[0m\u001b[0mplain\u001b[0m\u001b[1;33m)\u001b[0m\u001b[1;33m\u001b[0m\u001b[1;33m\u001b[0m\u001b[0m\n\u001b[1;32m--> 181\u001b[1;33m         \u001b[1;32mfor\u001b[0m \u001b[0mblock\u001b[0m \u001b[1;32min\u001b[0m \u001b[0mself\u001b[0m\u001b[1;33m.\u001b[0m\u001b[0mformatted\u001b[0m\u001b[1;33m:\u001b[0m\u001b[1;33m\u001b[0m\u001b[1;33m\u001b[0m\u001b[0m\n\u001b[0m\u001b[0;32m    182\u001b[0m             \u001b[1;32mif\u001b[0m \u001b[0mblock\u001b[0m\u001b[1;33m.\u001b[0m\u001b[0mt\u001b[0m \u001b[1;32mis\u001b[0m \u001b[1;32mnot\u001b[0m \u001b[1;32mNone\u001b[0m\u001b[1;33m:\u001b[0m\u001b[1;33m\u001b[0m\u001b[1;33m\u001b[0m\u001b[0m\n\u001b[0;32m    183\u001b[0m                 \u001b[0msnippets\u001b[0m\u001b[1;33m.\u001b[0m\u001b[0mappend\u001b[0m\u001b[1;33m(\u001b[0m\u001b[0mblock\u001b[0m\u001b[1;33m.\u001b[0m\u001b[0mt\u001b[0m\u001b[1;33m)\u001b[0m\u001b[1;33m\u001b[0m\u001b[1;33m\u001b[0m\u001b[0m\n",
      "\u001b[1;31mKeyboardInterrupt\u001b[0m: "
     ]
    }
   ],
   "source": [
    "# import data from the extracted files above\n",
    "\n",
    "# an empty list that will hold our data\n",
    "li_df = []\n",
    "# list of files we extracted\n",
    "li_files = os.listdir(data_folder)\n",
    "print(f'we shall import data from {len(li_files)} files')\n",
    "\n",
    "# initialize a counter\n",
    "c = 0\n",
    "\n",
    "for file in li_files:\n",
    "    # import the data from the files\n",
    "    df = pd.read_excel(data_folder + '\\\\' + file)\n",
    "    # add a column to idenfity which file we extracted the data from\n",
    "    df['Source_File_Name'] = file\n",
    "    # add the data to our list of dataframes\n",
    "    li_df.append(df)\n",
    "    print(f'{c+1}. data from {file} imported successfully. Rows: {df.shape[0]}. Columns: {df.shape[1]}')\n",
    "    c += 1"
   ]
  },
  {
   "cell_type": "code",
   "execution_count": 58,
   "id": "f2f92d0f",
   "metadata": {},
   "outputs": [
    {
     "name": "stdout",
     "output_type": "stream",
     "text": [
      "(29126, 21)\n"
     ]
    },
    {
     "data": {
      "text/html": [
       "<div>\n",
       "<style scoped>\n",
       "    .dataframe tbody tr th:only-of-type {\n",
       "        vertical-align: middle;\n",
       "    }\n",
       "\n",
       "    .dataframe tbody tr th {\n",
       "        vertical-align: top;\n",
       "    }\n",
       "\n",
       "    .dataframe thead th {\n",
       "        text-align: right;\n",
       "    }\n",
       "</style>\n",
       "<table border=\"1\" class=\"dataframe\">\n",
       "  <thead>\n",
       "    <tr style=\"text-align: right;\">\n",
       "      <th></th>\n",
       "      <th>Division</th>\n",
       "      <th>Batch-Transaction ID</th>\n",
       "      <th>Transaction Date</th>\n",
       "      <th>Card Posting Dt</th>\n",
       "      <th>Merchant Name</th>\n",
       "      <th>Transaction Amt.</th>\n",
       "      <th>Trx Currency</th>\n",
       "      <th>Original Amount</th>\n",
       "      <th>Original Currency</th>\n",
       "      <th>G/L Account</th>\n",
       "      <th>G/L Account Description</th>\n",
       "      <th>Cost Centre /WBS Element / Order</th>\n",
       "      <th>Cost Centre /WBS Element / Order Description</th>\n",
       "      <th>Merchant Type</th>\n",
       "      <th>Merchant Type Description</th>\n",
       "      <th>Purpose</th>\n",
       "      <th>Source_File_Name</th>\n",
       "      <th>Batch Transaction ID</th>\n",
       "      <th>Cost Center / WBS Element / Order</th>\n",
       "      <th>Cost Center / WBS Element / Order Description</th>\n",
       "      <th>Exp Type Desc</th>\n",
       "    </tr>\n",
       "  </thead>\n",
       "  <tbody>\n",
       "    <tr>\n",
       "      <th>0</th>\n",
       "      <td>PUBLIC HEALTH</td>\n",
       "      <td>4608-1</td>\n",
       "      <td>2017-06-15</td>\n",
       "      <td>2017-06-16</td>\n",
       "      <td>PAYPAL *OBC2012</td>\n",
       "      <td>50.00</td>\n",
       "      <td>CAD</td>\n",
       "      <td>50.00</td>\n",
       "      <td>CAD</td>\n",
       "      <td>4760</td>\n",
       "      <td>MEMBERSHIP FEES</td>\n",
       "      <td>PH3071</td>\n",
       "      <td>MATERNAL INFANT HEALTH PROGRAM SUPPORT</td>\n",
       "      <td>8641.0</td>\n",
       "      <td>Associations - Civic, Social, and Frater</td>\n",
       "      <td>MEMBERSHIP FEE</td>\n",
       "      <td>PCard Expenses_201706.xlsx</td>\n",
       "      <td>NaN</td>\n",
       "      <td>NaN</td>\n",
       "      <td>NaN</td>\n",
       "      <td>NaN</td>\n",
       "    </tr>\n",
       "    <tr>\n",
       "      <th>1</th>\n",
       "      <td>PUBLIC HEALTH</td>\n",
       "      <td>4617-1</td>\n",
       "      <td>2017-06-21</td>\n",
       "      <td>2017-06-23</td>\n",
       "      <td>CHNC</td>\n",
       "      <td>423.75</td>\n",
       "      <td>CAD</td>\n",
       "      <td>423.75</td>\n",
       "      <td>CAD</td>\n",
       "      <td>4256</td>\n",
       "      <td>CONFERENCES/SEMINARS - REGISTRATION FEES</td>\n",
       "      <td>PH3071</td>\n",
       "      <td>MATERNAL INFANT HEALTH PROGRAM SUPPORT</td>\n",
       "      <td>8641.0</td>\n",
       "      <td>Associations - Civic, Social, and Frater</td>\n",
       "      <td>CHNC CONFERENCE</td>\n",
       "      <td>PCard Expenses_201706.xlsx</td>\n",
       "      <td>NaN</td>\n",
       "      <td>NaN</td>\n",
       "      <td>NaN</td>\n",
       "      <td>NaN</td>\n",
       "    </tr>\n",
       "    <tr>\n",
       "      <th>2</th>\n",
       "      <td>PUBLIC HEALTH</td>\n",
       "      <td>4621-1</td>\n",
       "      <td>2017-06-26</td>\n",
       "      <td>2017-06-27</td>\n",
       "      <td>POST MD-CPD-UOFT</td>\n",
       "      <td>2601.00</td>\n",
       "      <td>CAD</td>\n",
       "      <td>2601.00</td>\n",
       "      <td>CAD</td>\n",
       "      <td>4256</td>\n",
       "      <td>CONFERENCES/SEMINARS - REGISTRATION FEES</td>\n",
       "      <td>PH3071</td>\n",
       "      <td>MATERNAL INFANT HEALTH PROGRAM SUPPORT</td>\n",
       "      <td>8220.0</td>\n",
       "      <td>Colleges, Universities, Professional Sch</td>\n",
       "      <td>UOFT CONFERENCE</td>\n",
       "      <td>PCard Expenses_201706.xlsx</td>\n",
       "      <td>NaN</td>\n",
       "      <td>NaN</td>\n",
       "      <td>NaN</td>\n",
       "      <td>NaN</td>\n",
       "    </tr>\n",
       "    <tr>\n",
       "      <th>3</th>\n",
       "      <td>PUBLIC HEALTH</td>\n",
       "      <td>4626-1</td>\n",
       "      <td>2017-06-28</td>\n",
       "      <td>2017-06-29</td>\n",
       "      <td>EVENTBRITE/PERINATALMO</td>\n",
       "      <td>480.66</td>\n",
       "      <td>CAD</td>\n",
       "      <td>480.66</td>\n",
       "      <td>CAD</td>\n",
       "      <td>4256</td>\n",
       "      <td>CONFERENCES/SEMINARS - REGISTRATION FEES</td>\n",
       "      <td>PH3071</td>\n",
       "      <td>MATERNAL INFANT HEALTH PROGRAM SUPPORT</td>\n",
       "      <td>7922.0</td>\n",
       "      <td>Theatrical Producers (except Motion Pict</td>\n",
       "      <td>REGISTRATION FEES</td>\n",
       "      <td>PCard Expenses_201706.xlsx</td>\n",
       "      <td>NaN</td>\n",
       "      <td>NaN</td>\n",
       "      <td>NaN</td>\n",
       "      <td>NaN</td>\n",
       "    </tr>\n",
       "    <tr>\n",
       "      <th>4</th>\n",
       "      <td>NaN</td>\n",
       "      <td>NaN</td>\n",
       "      <td>NaT</td>\n",
       "      <td>NaT</td>\n",
       "      <td>NaN</td>\n",
       "      <td>3555.41</td>\n",
       "      <td>CAD</td>\n",
       "      <td>3555.41</td>\n",
       "      <td>CAD</td>\n",
       "      <td>NaN</td>\n",
       "      <td>NaN</td>\n",
       "      <td>NaN</td>\n",
       "      <td>NaN</td>\n",
       "      <td>NaN</td>\n",
       "      <td>NaN</td>\n",
       "      <td>NaN</td>\n",
       "      <td>PCard Expenses_201706.xlsx</td>\n",
       "      <td>NaN</td>\n",
       "      <td>NaN</td>\n",
       "      <td>NaN</td>\n",
       "      <td>NaN</td>\n",
       "    </tr>\n",
       "  </tbody>\n",
       "</table>\n",
       "</div>"
      ],
      "text/plain": [
       "        Division Batch-Transaction ID Transaction Date Card Posting Dt  \\\n",
       "0  PUBLIC HEALTH               4608-1       2017-06-15      2017-06-16   \n",
       "1  PUBLIC HEALTH               4617-1       2017-06-21      2017-06-23   \n",
       "2  PUBLIC HEALTH               4621-1       2017-06-26      2017-06-27   \n",
       "3  PUBLIC HEALTH               4626-1       2017-06-28      2017-06-29   \n",
       "4            NaN                  NaN              NaT             NaT   \n",
       "\n",
       "            Merchant Name  Transaction Amt. Trx Currency  Original Amount  \\\n",
       "0         PAYPAL *OBC2012             50.00          CAD            50.00   \n",
       "1                    CHNC            423.75          CAD           423.75   \n",
       "2        POST MD-CPD-UOFT           2601.00          CAD          2601.00   \n",
       "3  EVENTBRITE/PERINATALMO            480.66          CAD           480.66   \n",
       "4                     NaN           3555.41          CAD          3555.41   \n",
       "\n",
       "  Original Currency G/L Account                   G/L Account Description  \\\n",
       "0               CAD        4760                           MEMBERSHIP FEES   \n",
       "1               CAD        4256  CONFERENCES/SEMINARS - REGISTRATION FEES   \n",
       "2               CAD        4256  CONFERENCES/SEMINARS - REGISTRATION FEES   \n",
       "3               CAD        4256  CONFERENCES/SEMINARS - REGISTRATION FEES   \n",
       "4               CAD         NaN                                       NaN   \n",
       "\n",
       "  Cost Centre /WBS Element / Order  \\\n",
       "0                           PH3071   \n",
       "1                           PH3071   \n",
       "2                           PH3071   \n",
       "3                           PH3071   \n",
       "4                              NaN   \n",
       "\n",
       "  Cost Centre /WBS Element / Order Description  Merchant Type  \\\n",
       "0       MATERNAL INFANT HEALTH PROGRAM SUPPORT         8641.0   \n",
       "1       MATERNAL INFANT HEALTH PROGRAM SUPPORT         8641.0   \n",
       "2       MATERNAL INFANT HEALTH PROGRAM SUPPORT         8220.0   \n",
       "3       MATERNAL INFANT HEALTH PROGRAM SUPPORT         7922.0   \n",
       "4                                          NaN            NaN   \n",
       "\n",
       "                  Merchant Type Description            Purpose  \\\n",
       "0  Associations - Civic, Social, and Frater     MEMBERSHIP FEE   \n",
       "1  Associations - Civic, Social, and Frater    CHNC CONFERENCE   \n",
       "2  Colleges, Universities, Professional Sch    UOFT CONFERENCE   \n",
       "3  Theatrical Producers (except Motion Pict  REGISTRATION FEES   \n",
       "4                                       NaN                NaN   \n",
       "\n",
       "             Source_File_Name Batch Transaction ID  \\\n",
       "0  PCard Expenses_201706.xlsx                  NaN   \n",
       "1  PCard Expenses_201706.xlsx                  NaN   \n",
       "2  PCard Expenses_201706.xlsx                  NaN   \n",
       "3  PCard Expenses_201706.xlsx                  NaN   \n",
       "4  PCard Expenses_201706.xlsx                  NaN   \n",
       "\n",
       "  Cost Center / WBS Element / Order  \\\n",
       "0                               NaN   \n",
       "1                               NaN   \n",
       "2                               NaN   \n",
       "3                               NaN   \n",
       "4                               NaN   \n",
       "\n",
       "  Cost Center / WBS Element / Order Description Exp Type Desc  \n",
       "0                                           NaN           NaN  \n",
       "1                                           NaN           NaN  \n",
       "2                                           NaN           NaN  \n",
       "3                                           NaN           NaN  \n",
       "4                                           NaN           NaN  "
      ]
     },
     "execution_count": 58,
     "metadata": {},
     "output_type": "execute_result"
    }
   ],
   "source": [
    "# combine the imported data frames into one\n",
    "combined_df = pd.concat(li_df)\n",
    "print(combined_df.shape)\n",
    "combined_df.head()"
   ]
  },
  {
   "cell_type": "code",
   "execution_count": null,
   "id": "af3f1c34",
   "metadata": {},
   "outputs": [],
   "source": []
  }
 ],
 "metadata": {
  "kernelspec": {
   "display_name": "bma_venv",
   "language": "python",
   "name": "bma_venv"
  },
  "language_info": {
   "codemirror_mode": {
    "name": "ipython",
    "version": 3
   },
   "file_extension": ".py",
   "mimetype": "text/x-python",
   "name": "python",
   "nbconvert_exporter": "python",
   "pygments_lexer": "ipython3",
   "version": "3.9.6"
  }
 },
 "nbformat": 4,
 "nbformat_minor": 5
}
