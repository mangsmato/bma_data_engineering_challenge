{
 "cells": [
  {
   "cell_type": "code",
   "execution_count": 1,
   "id": "abdb5a98",
   "metadata": {},
   "outputs": [],
   "source": [
    "# import necessary modules\n",
    "from datetime import datetime"
   ]
  },
  {
   "cell_type": "code",
   "execution_count": 2,
   "id": "5e2c386b",
   "metadata": {},
   "outputs": [
    {
     "name": "stdout",
     "output_type": "stream",
     "text": [
      "Entire ELT job started at at 2023-05-24 21:26:47.727035\n"
     ]
    }
   ],
   "source": [
    "# print start of the job\n",
    "start_time = datetime.now()\n",
    "print('Entire ELT job started at at {}'.format(start_time))"
   ]
  },
  {
   "cell_type": "code",
   "execution_count": 3,
   "id": "eae5480d",
   "metadata": {},
   "outputs": [],
   "source": [
    "def main():\n",
    "    # import the script to extract the data\n",
    "    import bma_extract_data_from_api\n",
    "    \n",
    "    # import the script to load the raw data\n",
    "    import bma_load_data_into_db\n",
    "    \n",
    "    # import the script to transform the data\n",
    "    import bma_transform_data\n",
    "    \n",
    "    # import the script to aggregate the data\n",
    "    import bma_data_aggregation\n",
    "    "
   ]
  },
  {
   "cell_type": "code",
   "execution_count": 4,
   "id": "207c9bdf",
   "metadata": {},
   "outputs": [
    {
     "name": "stdout",
     "output_type": "stream",
     "text": [
      "Data Extraction job started at at 2023-05-24 21:26:48.580735\n",
      "Data folder already exists\n",
      "Reports folder already exists\n"
     ]
    },
    {
     "name": "stderr",
     "output_type": "stream",
     "text": [
      "C:\\Users\\mmangoli\\AppData\\Local\\Programs\\Python\\Python39\\lib\\site-packages\\urllib3\\connectionpool.py:1013: InsecureRequestWarning: Unverified HTTPS request is being made to host 'ckan0.cf.opendata.inter.prod-toronto.ca'. Adding certificate verification is strongly advised. See: https://urllib3.readthedocs.io/en/1.26.x/advanced-usage.html#ssl-warnings\n",
      "  warnings.warn(\n"
     ]
    },
    {
     "name": "stdout",
     "output_type": "stream",
     "text": [
      "XLS https://ckan0.cf.opendata.inter.prod-toronto.ca/dataset/ebc3f9c2-2f80-4405-bf4f-5fb309581485/resource/070bdbd3-9bae-4269-b096-e3a8bd7460c8/download/pcard_expenditures_readme.xls\n",
      "ZIP https://ckan0.cf.opendata.inter.prod-toronto.ca/dataset/ebc3f9c2-2f80-4405-bf4f-5fb309581485/resource/d83a5249-fb07-4c38-9145-9e12a32ce1d4/download/expenditures.zip\n",
      "Link for data https://ckan0.cf.opendata.inter.prod-toronto.ca/dataset/ebc3f9c2-2f80-4405-bf4f-5fb309581485/resource/d83a5249-fb07-4c38-9145-9e12a32ce1d4/download/expenditures.zip\n"
     ]
    },
    {
     "name": "stderr",
     "output_type": "stream",
     "text": [
      "C:\\Users\\mmangoli\\AppData\\Local\\Programs\\Python\\Python39\\lib\\site-packages\\urllib3\\connectionpool.py:1013: InsecureRequestWarning: Unverified HTTPS request is being made to host 'ckan0.cf.opendata.inter.prod-toronto.ca'. Adding certificate verification is strongly advised. See: https://urllib3.readthedocs.io/en/1.26.x/advanced-usage.html#ssl-warnings\n",
      "  warnings.warn(\n"
     ]
    },
    {
     "name": "stdout",
     "output_type": "stream",
     "text": [
      "we shall import data from 103 files\n",
      "1. data from PCard Expenses_201706.xlsx imported successfully. Rows: 5259. Columns: 17\n",
      "2. data from PCard Expenses_201707.xlsx imported successfully. Rows: 5617. Columns: 17\n",
      "3. data from PCard Expenses_201708.xlsx imported successfully. Rows: 4761. Columns: 17\n",
      "4. data from PCard Expenses_201709.xlsx imported successfully. Rows: 3895. Columns: 17\n",
      "5. data from PCard Expenses_201710.xlsx imported successfully. Rows: 4790. Columns: 17\n",
      "6. data from PCard Expenses_2017_11_Final.xlsx imported successfully. Rows: 4799. Columns: 17\n",
      "7. data from PCard Expenses_2017_12_Final.xlsx imported successfully. Rows: 3491. Columns: 17\n",
      "8. data from PCard Expenses_2018_01_Final_revised.xlsx imported successfully. Rows: 4211. Columns: 17\n",
      "9. data from PCard Expenses_2018_02_Final.xlsx imported successfully. Rows: 3977. Columns: 17\n",
      "10. data from PCard Expenses_2018_03_Final.xlsx imported successfully. Rows: 4611. Columns: 17\n",
      "11. data from PCard Expenses_2018_04_Final.xlsx imported successfully. Rows: 4687. Columns: 17\n",
      "12. data from PCard Expenses_2018_05_Final.xlsx imported successfully. Rows: 5320. Columns: 17\n",
      "13. data from PCard Expenses_2018_06_Final.xlsx imported successfully. Rows: 5297. Columns: 17\n",
      "14. data from PCard Expenses_2018_07.FINAL.XLSX imported successfully. Rows: 6041. Columns: 17\n",
      "15. data from PCard Expenses_2018_08.FINAL.XLSX imported successfully. Rows: 5026. Columns: 17\n",
      "16. data from PCard Expenses_2018_09.FINAL.XLSX imported successfully. Rows: 4274. Columns: 17\n",
      "17. data from PCard Expenses_2018_10.FINAL.XLSX imported successfully. Rows: 5249. Columns: 17\n",
      "18. data from PCard Expenses_2018_11.FINAL.XLSX imported successfully. Rows: 5363. Columns: 17\n",
      "19. data from PCard Expenses_2018_12.FINAL.XLSX imported successfully. Rows: 3456. Columns: 17\n",
      "20. data from PCard Expenses_2019_01.FINAL.XLSX imported successfully. Rows: 4594. Columns: 17\n",
      "21. data from PCard Expenses_2019_02.FINAL.XLSX imported successfully. Rows: 3962. Columns: 17\n",
      "22. data from PCard Expenses_2019_03.FINAL.XLSX imported successfully. Rows: 4641. Columns: 17\n",
      "23. data from PCard Expenses_2019_04.FINAL.XLSX imported successfully. Rows: 4765. Columns: 17\n",
      "24. data from PCard Expenses_2019_05.FINAL.XLSX imported successfully. Rows: 5670. Columns: 17\n",
      "25. data from PCard Expenses_2019_06.FINAL.XLSX imported successfully. Rows: 5051. Columns: 17\n",
      "26. data from PCard Expenses_2019_07.FINAL.XLSX imported successfully. Rows: 6400. Columns: 17\n",
      "27. data from PCardExpenses_201101_Final.xls imported successfully. Rows: 1379. Columns: 17\n",
      "28. data from PCardExpenses_201102_Final.xls imported successfully. Rows: 1415. Columns: 17\n",
      "29. data from PCardExpenses_201103_Final.xls imported successfully. Rows: 2598. Columns: 17\n",
      "30. data from PCardExpenses_201104_Final.xls imported successfully. Rows: 2583. Columns: 17\n",
      "31. data from PCardExpenses_201105_Final.xls imported successfully. Rows: 2903. Columns: 17\n",
      "32. data from PCardExpenses_201106_Final.xls imported successfully. Rows: 3126. Columns: 17\n",
      "33. data from PCardExpenses_201107_Final.xls imported successfully. Rows: 3858. Columns: 17\n",
      "34. data from PCardExpenses_201108_Final.xls imported successfully. Rows: 3929. Columns: 17\n",
      "35. data from PCardExpenses_201109_Final.xls imported successfully. Rows: 2367. Columns: 17\n",
      "36. data from PCardExpenses_201110_Final.xls imported successfully. Rows: 2966. Columns: 17\n",
      "37. data from PCardExpenses_201111_Final.xls imported successfully. Rows: 2910. Columns: 17\n",
      "38. data from PCardExpenses_201112_Final.xls imported successfully. Rows: 0. Columns: 1\n",
      "39. data from PCardExpenses_201201_Final.xls imported successfully. Rows: 2374. Columns: 17\n",
      "40. data from PCardExpenses_201202_Final.xls imported successfully. Rows: 2459. Columns: 17\n",
      "41. data from PCardExpenses_201203_Final.xls imported successfully. Rows: 2884. Columns: 17\n",
      "42. data from PCardExpenses_201204_Final.xls imported successfully. Rows: 2794. Columns: 17\n",
      "43. data from PCardExpenses_201205_Final.xls imported successfully. Rows: 3362. Columns: 17\n",
      "44. data from PCardExpenses_201206_Final.xls imported successfully. Rows: 3352. Columns: 17\n",
      "45. data from PCardExpenses_201207_Final.xls imported successfully. Rows: 4169. Columns: 17\n",
      "46. data from PCardExpenses_201208_Final.xls imported successfully. Rows: 3565. Columns: 17\n",
      "47. data from PCardExpenses_201209_Final.xls imported successfully. Rows: 2470. Columns: 17\n",
      "48. data from PCardExpenses_201210_Final.xls imported successfully. Rows: 3615. Columns: 17\n",
      "49. data from PCardExpenses_201211_Final.xls imported successfully. Rows: 3422. Columns: 17\n",
      "50. data from PCardExpenses_201212_Final.xls imported successfully. Rows: 2560. Columns: 17\n",
      "51. data from PCardExpenses_201301_Final.xls imported successfully. Rows: 2839. Columns: 17\n",
      "52. data from PCardExpenses_201302_Final.xls imported successfully. Rows: 2564. Columns: 17\n",
      "53. data from PCardExpenses_201303_Final.xls imported successfully. Rows: 3054. Columns: 17\n",
      "54. data from PCardExpenses_201304_Final.xls imported successfully. Rows: 3369. Columns: 17\n",
      "55. data from PCardExpenses_201305_Final.xls imported successfully. Rows: 3484. Columns: 17\n",
      "56. data from PCardExpenses_201306_Final.xls imported successfully. Rows: 3510. Columns: 17\n",
      "57. data from PCardExpenses_201307_Final.xls imported successfully. Rows: 4768. Columns: 17\n",
      "58. data from PCardExpenses_201308_Final.xls imported successfully. Rows: 3572. Columns: 17\n",
      "59. data from PCardExpenses_201309_Final.xls imported successfully. Rows: 2659. Columns: 17\n",
      "60. data from PCardExpenses_201310_Final.xls imported successfully. Rows: 3538. Columns: 17\n",
      "61. data from PCardExpenses_201311_Final.xls imported successfully. Rows: 2902. Columns: 17\n",
      "62. data from PCardExpenses_201312_Final.xls imported successfully. Rows: 2611. Columns: 17\n",
      "63. data from PCardExpenses_201401_Final.xls imported successfully. Rows: 2897. Columns: 17\n",
      "64. data from PCardExpenses_201402_final.xls imported successfully. Rows: 2785. Columns: 17\n",
      "65. data from PCardExpenses_201403_final.xls imported successfully. Rows: 3254. Columns: 17\n",
      "66. data from PCardExpenses_201404_final.xls imported successfully. Rows: 3351. Columns: 17\n",
      "67. data from PCardExpenses_201405_final.xls imported successfully. Rows: 3732. Columns: 17\n",
      "68. data from PCardExpenses_201406_final.xls imported successfully. Rows: 3936. Columns: 17\n",
      "69. data from PCardExpenses_201407_final.xls imported successfully. Rows: 4879. Columns: 17\n",
      "70. data from PCardExpenses_201408_final.xls imported successfully. Rows: 3925. Columns: 17\n",
      "71. data from PCardExpenses_201409_Final.xls imported successfully. Rows: 3298. Columns: 17\n",
      "72. data from PCardExpenses_201410_Final.xls imported successfully. Rows: 4352. Columns: 17\n",
      "73. data from PCardExpenses_201411_Final.xls imported successfully. Rows: 3498. Columns: 17\n",
      "74. data from PCardExpenses_201412_Final.xls imported successfully. Rows: 3356. Columns: 17\n",
      "75. data from PCardExpenses_201501_Final.xlsx imported successfully. Rows: 3513. Columns: 17\n",
      "76. data from PCardExpenses_201502_Final.xlsx imported successfully. Rows: 3346. Columns: 17\n",
      "77. data from PCardExpenses_201503_Final.xlsx imported successfully. Rows: 4187. Columns: 17\n",
      "78. data from PCardExpenses_201504_Final.xlsx imported successfully. Rows: 3968. Columns: 17\n",
      "79. data from PCardExpenses_201505_Final.xlsx imported successfully. Rows: 4178. Columns: 17\n",
      "80. data from PCardExpenses_201506_Final.xlsx imported successfully. Rows: 4615. Columns: 17\n",
      "81. data from PCardExpenses_201507_Final.xlsx imported successfully. Rows: 5652. Columns: 17\n",
      "82. data from PCardExpenses_201508_Final.xlsx imported successfully. Rows: 4690. Columns: 17\n",
      "83. data from PCardExpenses_201509_Final.xlsx imported successfully. Rows: 3624. Columns: 17\n",
      "84. data from PCardExpenses_201510_Final.xlsx imported successfully. Rows: 4633. Columns: 17\n",
      "85. data from PCardExpenses_201511_Final.xlsx imported successfully. Rows: 4451. Columns: 17\n",
      "86. data from PCardExpenses_201512_Final.xlsx imported successfully. Rows: 3361. Columns: 17\n",
      "87. data from PCardExpenses_201601.xlsx imported successfully. Rows: 3525. Columns: 17\n",
      "88. data from PCardExpenses_201602.xlsx imported successfully. Rows: 4085. Columns: 17\n",
      "89. data from PCardExpenses_201603.xlsx imported successfully. Rows: 3791. Columns: 17\n"
     ]
    },
    {
     "name": "stdout",
     "output_type": "stream",
     "text": [
      "90. data from PCardExpenses_201604.xlsx imported successfully. Rows: 4315. Columns: 17\n",
      "91. data from PCardExpenses_201605.xlsx imported successfully. Rows: 4358. Columns: 17\n",
      "92. data from PCardExpenses_201606.xlsx imported successfully. Rows: 4509. Columns: 17\n",
      "93. data from PCardExpenses_201607.xlsx imported successfully. Rows: 4970. Columns: 17\n",
      "94. data from PCardExpenses_201608.xlsx imported successfully. Rows: 4680. Columns: 17\n",
      "95. data from PCardExpenses_201609.xlsx imported successfully. Rows: 3565. Columns: 17\n",
      "96. data from PCardExpenses_201610.xlsx imported successfully. Rows: 4431. Columns: 17\n",
      "97. data from PCardExpenses_201611.xlsx imported successfully. Rows: 4094. Columns: 17\n",
      "98. data from PCardExpenses_201612.xlsx imported successfully. Rows: 3541. Columns: 17\n",
      "99. data from PCardExpenses_201701.xlsx imported successfully. Rows: 3735. Columns: 17\n",
      "100. data from PCardExpenses_201702.xlsx imported successfully. Rows: 3854. Columns: 17\n",
      "101. data from PCardExpenses_201703.xlsx imported successfully. Rows: 4483. Columns: 17\n",
      "102. data from PCardExpenses_201704.xlsx imported successfully. Rows: 4023. Columns: 17\n",
      "103. data from PCardExpenses_201705.xlsx imported successfully. Rows: 5039. Columns: 17\n",
      "(395616, 17)\n",
      "\n",
      "Data Extraction job started at 2023-05-24 21:26:48.580735.\n",
      "Data Extraction job finished execution at 2023-05-24 21:29:29.723178.\n",
      "Total time taken is for Data Extraction is 0:02:41.142443\n",
      "\n",
      "Data Load job started at at 2023-05-24 21:29:29.866623\n",
      "(395616, 17)\n",
      "(394217, 17)\n",
      "394217 rows successfully saved in pcard_expenditures.raw_data_transactions\n",
      "\n",
      "Data Load job started at 2023-05-24 21:29:29.866623.\n",
      "Data Load job finished execution at 2023-05-24 21:34:25.557862.\n",
      "Total time taken is for Data Load is 0:04:55.691239\n",
      "\n",
      "Data Transformation job started at at 2023-05-24 21:34:25.566970\n",
      "(394217, 17)\n",
      "(394217, 12)\n",
      "An error occurred: set_session cannot be used inside a transaction\n",
      "(29780, 2)\n",
      "An error occurred: set_session cannot be used inside a transaction\n",
      "(364, 2)\n",
      "An error occurred: set_session cannot be used inside a transaction\n",
      "(931, 2)\n",
      "An error occurred: set_session cannot be used inside a transaction\n",
      "(15828, 2)\n",
      "An error occurred: set_session cannot be used inside a transaction\n",
      "\n",
      "Data Transformation job started at 2023-05-24 21:34:25.566970.\n",
      "Data Transformation job finished execution at 2023-05-24 21:35:18.068565.\n",
      "Total time taken is for Data Transformation is 0:00:52.501595\n",
      "\n",
      "Data Aggregation job started at at 2023-05-24 21:35:18.085526\n",
      "Completed data aggregation\n",
      "\n",
      "Data Aggregation job started at 2023-05-24 21:35:18.085526.\n",
      "Data Aggregation job finished execution at 2023-05-24 21:35:18.606168.\n",
      "Total time taken is for Data Aggregation is 0:00:00.520642\n",
      "\n"
     ]
    }
   ],
   "source": [
    "if __name__ == \"__main__\":\n",
    "    main()"
   ]
  },
  {
   "cell_type": "code",
   "execution_count": 5,
   "id": "97b69631",
   "metadata": {},
   "outputs": [
    {
     "name": "stdout",
     "output_type": "stream",
     "text": [
      "\n",
      "Entire ELT job started at 2023-05-24 21:26:47.727035.\n",
      "Entire ELT job finished execution at 2023-05-24 21:35:18.627215.\n",
      "Total time taken is for Entire ELT is 0:08:30.900180\n",
      "\n"
     ]
    }
   ],
   "source": [
    "end_time = datetime.now()\n",
    "print(f\"\"\"\n",
    "Entire ELT job started at {start_time}.\n",
    "Entire ELT job finished execution at {end_time}.\n",
    "Total time taken is for Entire ELT is {end_time-start_time}\n",
    "\"\"\")"
   ]
  },
  {
   "cell_type": "code",
   "execution_count": null,
   "id": "431ab514",
   "metadata": {},
   "outputs": [],
   "source": []
  }
 ],
 "metadata": {
  "kernelspec": {
   "display_name": "bma_venv",
   "language": "python",
   "name": "bma_venv"
  },
  "language_info": {
   "codemirror_mode": {
    "name": "ipython",
    "version": 3
   },
   "file_extension": ".py",
   "mimetype": "text/x-python",
   "name": "python",
   "nbconvert_exporter": "python",
   "pygments_lexer": "ipython3",
   "version": "3.9.6"
  }
 },
 "nbformat": 4,
 "nbformat_minor": 5
}
