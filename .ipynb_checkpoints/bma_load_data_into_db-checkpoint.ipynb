{
 "cells": [
  {
   "cell_type": "code",
   "execution_count": null,
   "id": "94bcedeb",
   "metadata": {},
   "outputs": [],
   "source": [
    "# import necessary modules\n",
    "from datetime import datetime\n",
    "import pandas as pd\n",
    "import db_connection\n",
    "conn = db_connection.db_conn"
   ]
  },
  {
   "cell_type": "code",
   "execution_count": null,
   "id": "351f0c95",
   "metadata": {},
   "outputs": [],
   "source": [
    "# print start of the job\n",
    "start_time = datetime.now()\n",
    "print('Data Load job started at at {}'.format(start_time))"
   ]
  },
  {
   "cell_type": "code",
   "execution_count": null,
   "id": "dd3f7178",
   "metadata": {},
   "outputs": [],
   "source": [
    "# import data from the reports folder (staging environment)\n",
    "df_raw = pd.read_csv('Reports/Combined_pcard_expenditures.csv')\n",
    "print(df_raw.shape)\n",
    "df_raw.head()"
   ]
  },
  {
   "cell_type": "code",
   "execution_count": null,
   "id": "972146af",
   "metadata": {},
   "outputs": [],
   "source": [
    "# # load the raw data into the PostgreSQL database\n",
    "table_name = 'raw_data_transactions'\n",
    "df_raw.to_sql(table_name, conn, if_exists='replace', index=False)"
   ]
  },
  {
   "cell_type": "code",
   "execution_count": null,
   "id": "7f758040",
   "metadata": {},
   "outputs": [],
   "source": []
  }
 ],
 "metadata": {
  "kernelspec": {
   "display_name": "bma_venv",
   "language": "python",
   "name": "bma_venv"
  },
  "language_info": {
   "codemirror_mode": {
    "name": "ipython",
    "version": 3
   },
   "file_extension": ".py",
   "mimetype": "text/x-python",
   "name": "python",
   "nbconvert_exporter": "python",
   "pygments_lexer": "ipython3",
   "version": "3.9.6"
  }
 },
 "nbformat": 4,
 "nbformat_minor": 5
}
