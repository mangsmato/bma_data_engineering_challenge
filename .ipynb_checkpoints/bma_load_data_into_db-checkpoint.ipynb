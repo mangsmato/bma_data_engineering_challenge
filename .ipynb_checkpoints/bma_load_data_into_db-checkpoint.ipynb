{
 "cells": [
  {
   "cell_type": "code",
   "execution_count": 1,
   "id": "94bcedeb",
   "metadata": {},
   "outputs": [],
   "source": [
    "# import necessary modules\n",
    "from datetime import datetime\n",
    "import pandas as pd\n",
    "import psycopg2"
   ]
  },
  {
   "cell_type": "code",
   "execution_count": 2,
   "id": "be1c2563",
   "metadata": {},
   "outputs": [],
   "source": [
    "# Establish a connection to the PostgreSQL server\n",
    "host = \"localhost\"\n",
    "user = \"postgres\"\n",
    "password = \"mm4easy1T\"\n",
    "conn = psycopg2.connect(host=host,  user=user, password=password)"
   ]
  },
  {
   "cell_type": "code",
   "execution_count": 3,
   "id": "351f0c95",
   "metadata": {},
   "outputs": [
    {
     "name": "stdout",
     "output_type": "stream",
     "text": [
      "Data Load job started at at 2023-05-24 19:52:06.028952\n"
     ]
    }
   ],
   "source": [
    "# print start of the job\n",
    "start_time = datetime.now()\n",
    "print('Data Load job started at at {}'.format(start_time))"
   ]
  },
  {
   "cell_type": "code",
   "execution_count": 4,
   "id": "dd3f7178",
   "metadata": {},
   "outputs": [
    {
     "name": "stdout",
     "output_type": "stream",
     "text": [
      "(395616, 17)\n"
     ]
    },
    {
     "data": {
      "text/html": [
       "<div>\n",
       "<style scoped>\n",
       "    .dataframe tbody tr th:only-of-type {\n",
       "        vertical-align: middle;\n",
       "    }\n",
       "\n",
       "    .dataframe tbody tr th {\n",
       "        vertical-align: top;\n",
       "    }\n",
       "\n",
       "    .dataframe thead th {\n",
       "        text-align: right;\n",
       "    }\n",
       "</style>\n",
       "<table border=\"1\" class=\"dataframe\">\n",
       "  <thead>\n",
       "    <tr style=\"text-align: right;\">\n",
       "      <th></th>\n",
       "      <th>DIVISION</th>\n",
       "      <th>BATCHTRANSACTIONID</th>\n",
       "      <th>TRANSACTIONDATE</th>\n",
       "      <th>CARDPOSTINGDATE</th>\n",
       "      <th>MERCHANTNAME</th>\n",
       "      <th>TRANSACTIONAMOUNT</th>\n",
       "      <th>TRANSACTIONCURRENCY</th>\n",
       "      <th>ORIGINALAMOUNT</th>\n",
       "      <th>ORIGINALCURRENCY</th>\n",
       "      <th>GLACCOUNT</th>\n",
       "      <th>GLACCOUNTDESCRIPTION</th>\n",
       "      <th>COSTCENTERWBSELEMENT</th>\n",
       "      <th>COSTCENTERWBSELEMENTDESCRIPTION</th>\n",
       "      <th>MERCHANTTYPE</th>\n",
       "      <th>MERCHANTTYPEDESCRIPTION</th>\n",
       "      <th>PURPOSE</th>\n",
       "      <th>SOURCE_FILE_NAME</th>\n",
       "    </tr>\n",
       "  </thead>\n",
       "  <tbody>\n",
       "    <tr>\n",
       "      <th>0</th>\n",
       "      <td>PUBLIC HEALTH</td>\n",
       "      <td>4608-1</td>\n",
       "      <td>2017-06-15</td>\n",
       "      <td>2017-06-16</td>\n",
       "      <td>PAYPAL *OBC2012</td>\n",
       "      <td>50.00</td>\n",
       "      <td>CAD</td>\n",
       "      <td>50.00</td>\n",
       "      <td>CAD</td>\n",
       "      <td>4760</td>\n",
       "      <td>MEMBERSHIP FEES</td>\n",
       "      <td>PH3071</td>\n",
       "      <td>MATERNAL INFANT HEALTH PROGRAM SUPPORT</td>\n",
       "      <td>8641.0</td>\n",
       "      <td>Associations - Civic, Social, and Frater</td>\n",
       "      <td>MEMBERSHIP FEE</td>\n",
       "      <td>PCard Expenses_201706.xlsx</td>\n",
       "    </tr>\n",
       "    <tr>\n",
       "      <th>1</th>\n",
       "      <td>PUBLIC HEALTH</td>\n",
       "      <td>4617-1</td>\n",
       "      <td>2017-06-21</td>\n",
       "      <td>2017-06-23</td>\n",
       "      <td>CHNC</td>\n",
       "      <td>423.75</td>\n",
       "      <td>CAD</td>\n",
       "      <td>423.75</td>\n",
       "      <td>CAD</td>\n",
       "      <td>4256</td>\n",
       "      <td>CONFERENCES/SEMINARS - REGISTRATION FEES</td>\n",
       "      <td>PH3071</td>\n",
       "      <td>MATERNAL INFANT HEALTH PROGRAM SUPPORT</td>\n",
       "      <td>8641.0</td>\n",
       "      <td>Associations - Civic, Social, and Frater</td>\n",
       "      <td>CHNC CONFERENCE</td>\n",
       "      <td>PCard Expenses_201706.xlsx</td>\n",
       "    </tr>\n",
       "    <tr>\n",
       "      <th>2</th>\n",
       "      <td>PUBLIC HEALTH</td>\n",
       "      <td>4621-1</td>\n",
       "      <td>2017-06-26</td>\n",
       "      <td>2017-06-27</td>\n",
       "      <td>POST MD-CPD-UOFT</td>\n",
       "      <td>2601.00</td>\n",
       "      <td>CAD</td>\n",
       "      <td>2601.00</td>\n",
       "      <td>CAD</td>\n",
       "      <td>4256</td>\n",
       "      <td>CONFERENCES/SEMINARS - REGISTRATION FEES</td>\n",
       "      <td>PH3071</td>\n",
       "      <td>MATERNAL INFANT HEALTH PROGRAM SUPPORT</td>\n",
       "      <td>8220.0</td>\n",
       "      <td>Colleges, Universities, Professional Sch</td>\n",
       "      <td>UOFT CONFERENCE</td>\n",
       "      <td>PCard Expenses_201706.xlsx</td>\n",
       "    </tr>\n",
       "    <tr>\n",
       "      <th>3</th>\n",
       "      <td>PUBLIC HEALTH</td>\n",
       "      <td>4626-1</td>\n",
       "      <td>2017-06-28</td>\n",
       "      <td>2017-06-29</td>\n",
       "      <td>EVENTBRITE/PERINATALMO</td>\n",
       "      <td>480.66</td>\n",
       "      <td>CAD</td>\n",
       "      <td>480.66</td>\n",
       "      <td>CAD</td>\n",
       "      <td>4256</td>\n",
       "      <td>CONFERENCES/SEMINARS - REGISTRATION FEES</td>\n",
       "      <td>PH3071</td>\n",
       "      <td>MATERNAL INFANT HEALTH PROGRAM SUPPORT</td>\n",
       "      <td>7922.0</td>\n",
       "      <td>Theatrical Producers (except Motion Pict</td>\n",
       "      <td>REGISTRATION FEES</td>\n",
       "      <td>PCard Expenses_201706.xlsx</td>\n",
       "    </tr>\n",
       "    <tr>\n",
       "      <th>4</th>\n",
       "      <td>ECONOMIC DEVELOPMENT &amp; CULTURE</td>\n",
       "      <td>4590-1</td>\n",
       "      <td>2017-06-02</td>\n",
       "      <td>2017-06-05</td>\n",
       "      <td>LEE VALLEY - DOWNTOWN</td>\n",
       "      <td>38.31</td>\n",
       "      <td>CAD</td>\n",
       "      <td>38.31</td>\n",
       "      <td>CAD</td>\n",
       "      <td>2600</td>\n",
       "      <td>RECREATIONAL &amp; EDUCATIONAL SUPPLIES</td>\n",
       "      <td>AH0073</td>\n",
       "      <td>HS-MH-EDUCATION/OUTRCH-FORT YORK</td>\n",
       "      <td>5072.0</td>\n",
       "      <td>Hardware Equipment and Supplies</td>\n",
       "      <td>LEMON RASPS</td>\n",
       "      <td>PCard Expenses_201706.xlsx</td>\n",
       "    </tr>\n",
       "  </tbody>\n",
       "</table>\n",
       "</div>"
      ],
      "text/plain": [
       "                         DIVISION BATCHTRANSACTIONID TRANSACTIONDATE  \\\n",
       "0                   PUBLIC HEALTH             4608-1      2017-06-15   \n",
       "1                   PUBLIC HEALTH             4617-1      2017-06-21   \n",
       "2                   PUBLIC HEALTH             4621-1      2017-06-26   \n",
       "3                   PUBLIC HEALTH             4626-1      2017-06-28   \n",
       "4  ECONOMIC DEVELOPMENT & CULTURE             4590-1      2017-06-02   \n",
       "\n",
       "  CARDPOSTINGDATE            MERCHANTNAME  TRANSACTIONAMOUNT  \\\n",
       "0      2017-06-16         PAYPAL *OBC2012              50.00   \n",
       "1      2017-06-23                    CHNC             423.75   \n",
       "2      2017-06-27        POST MD-CPD-UOFT            2601.00   \n",
       "3      2017-06-29  EVENTBRITE/PERINATALMO             480.66   \n",
       "4      2017-06-05   LEE VALLEY - DOWNTOWN              38.31   \n",
       "\n",
       "  TRANSACTIONCURRENCY  ORIGINALAMOUNT ORIGINALCURRENCY GLACCOUNT  \\\n",
       "0                 CAD           50.00              CAD      4760   \n",
       "1                 CAD          423.75              CAD      4256   \n",
       "2                 CAD         2601.00              CAD      4256   \n",
       "3                 CAD          480.66              CAD      4256   \n",
       "4                 CAD           38.31              CAD      2600   \n",
       "\n",
       "                       GLACCOUNTDESCRIPTION COSTCENTERWBSELEMENT  \\\n",
       "0                           MEMBERSHIP FEES               PH3071   \n",
       "1  CONFERENCES/SEMINARS - REGISTRATION FEES               PH3071   \n",
       "2  CONFERENCES/SEMINARS - REGISTRATION FEES               PH3071   \n",
       "3  CONFERENCES/SEMINARS - REGISTRATION FEES               PH3071   \n",
       "4       RECREATIONAL & EDUCATIONAL SUPPLIES               AH0073   \n",
       "\n",
       "          COSTCENTERWBSELEMENTDESCRIPTION  MERCHANTTYPE  \\\n",
       "0  MATERNAL INFANT HEALTH PROGRAM SUPPORT        8641.0   \n",
       "1  MATERNAL INFANT HEALTH PROGRAM SUPPORT        8641.0   \n",
       "2  MATERNAL INFANT HEALTH PROGRAM SUPPORT        8220.0   \n",
       "3  MATERNAL INFANT HEALTH PROGRAM SUPPORT        7922.0   \n",
       "4        HS-MH-EDUCATION/OUTRCH-FORT YORK        5072.0   \n",
       "\n",
       "                    MERCHANTTYPEDESCRIPTION            PURPOSE  \\\n",
       "0  Associations - Civic, Social, and Frater     MEMBERSHIP FEE   \n",
       "1  Associations - Civic, Social, and Frater    CHNC CONFERENCE   \n",
       "2  Colleges, Universities, Professional Sch    UOFT CONFERENCE   \n",
       "3  Theatrical Producers (except Motion Pict  REGISTRATION FEES   \n",
       "4           Hardware Equipment and Supplies        LEMON RASPS   \n",
       "\n",
       "             SOURCE_FILE_NAME  \n",
       "0  PCard Expenses_201706.xlsx  \n",
       "1  PCard Expenses_201706.xlsx  \n",
       "2  PCard Expenses_201706.xlsx  \n",
       "3  PCard Expenses_201706.xlsx  \n",
       "4  PCard Expenses_201706.xlsx  "
      ]
     },
     "execution_count": 4,
     "metadata": {},
     "output_type": "execute_result"
    }
   ],
   "source": [
    "# import data from the reports folder (staging environment)\n",
    "df_raw = pd.read_csv('Reports/Combined_pcard_expenditures.csv')\n",
    "print(df_raw.shape)\n",
    "df_raw.head()"
   ]
  },
  {
   "cell_type": "code",
   "execution_count": 5,
   "id": "473f7cc2",
   "metadata": {},
   "outputs": [
    {
     "name": "stdout",
     "output_type": "stream",
     "text": [
      "(394217, 17)\n"
     ]
    }
   ],
   "source": [
    "# drop any duplicates\n",
    "df_raw.drop_duplicates(subset=['BATCHTRANSACTIONID'],inplace=True)\n",
    "print(df_raw.shape)"
   ]
  },
  {
   "cell_type": "code",
   "execution_count": 6,
   "id": "021965a7",
   "metadata": {},
   "outputs": [
    {
     "data": {
      "text/plain": [
       "Index(['DIVISION', 'BATCHTRANSACTIONID', 'TRANSACTIONDATE', 'CARDPOSTINGDATE',\n",
       "       'MERCHANTNAME', 'TRANSACTIONAMOUNT', 'TRANSACTIONCURRENCY',\n",
       "       'ORIGINALAMOUNT', 'ORIGINALCURRENCY', 'GLACCOUNT',\n",
       "       'GLACCOUNTDESCRIPTION', 'COSTCENTERWBSELEMENT',\n",
       "       'COSTCENTERWBSELEMENTDESCRIPTION', 'MERCHANTTYPE',\n",
       "       'MERCHANTTYPEDESCRIPTION', 'PURPOSE', 'SOURCE_FILE_NAME'],\n",
       "      dtype='object')"
      ]
     },
     "execution_count": 6,
     "metadata": {},
     "output_type": "execute_result"
    }
   ],
   "source": [
    "df_raw.columns"
   ]
  },
  {
   "cell_type": "code",
   "execution_count": 7,
   "id": "141aa412",
   "metadata": {},
   "outputs": [
    {
     "data": {
      "text/plain": [
       "[('PUBLIC HEALTH',\n",
       "  '4608-1',\n",
       "  '2017-06-15',\n",
       "  '2017-06-16',\n",
       "  'PAYPAL *OBC2012',\n",
       "  50.0,\n",
       "  'CAD',\n",
       "  50.0,\n",
       "  'CAD',\n",
       "  '4760',\n",
       "  'MEMBERSHIP FEES',\n",
       "  'PH3071',\n",
       "  'MATERNAL INFANT HEALTH PROGRAM SUPPORT',\n",
       "  8641.0,\n",
       "  'Associations - Civic, Social, and Frater',\n",
       "  'MEMBERSHIP FEE',\n",
       "  'PCard Expenses_201706.xlsx'),\n",
       " ('PUBLIC HEALTH',\n",
       "  '4617-1',\n",
       "  '2017-06-21',\n",
       "  '2017-06-23',\n",
       "  'CHNC',\n",
       "  423.75,\n",
       "  'CAD',\n",
       "  423.75,\n",
       "  'CAD',\n",
       "  '4256',\n",
       "  'CONFERENCES/SEMINARS - REGISTRATION FEES',\n",
       "  'PH3071',\n",
       "  'MATERNAL INFANT HEALTH PROGRAM SUPPORT',\n",
       "  8641.0,\n",
       "  'Associations - Civic, Social, and Frater',\n",
       "  'CHNC CONFERENCE',\n",
       "  'PCard Expenses_201706.xlsx')]"
      ]
     },
     "execution_count": 7,
     "metadata": {},
     "output_type": "execute_result"
    }
   ],
   "source": [
    "# we now want to save our data in the database\n",
    "# we get all the records into individual rows and save them at once\n",
    "raw_rows = []\n",
    "for index, row in df_raw.iterrows():\n",
    "    record = (row[0],row[1],row[2],row[3],row[4],row[5],row[6],row[7],row[8],\n",
    "              row[9],row[10],row[11],row[12],row[13],row[14],row[15],row[16])\n",
    "    raw_rows.append(record)\n",
    "raw_rows[:2]"
   ]
  },
  {
   "cell_type": "code",
   "execution_count": 8,
   "id": "e8e9e69e",
   "metadata": {},
   "outputs": [
    {
     "name": "stdout",
     "output_type": "stream",
     "text": [
      "394217 rows successfully saved in pcard_expenditures.raw_data_transactions\n"
     ]
    }
   ],
   "source": [
    "# save the raw data\n",
    "try:\n",
    "    # disable autocommit\n",
    "    conn.autocommit = True\n",
    "    \n",
    "    # Create a cursor object\n",
    "    cursor = conn.cursor()\n",
    "    \n",
    "    # transaction 1: truncate the raw data table\n",
    "    sql = f'TRUNCATE TABLE pcard_expenditures.raw_data_transactions'\n",
    "    cursor.execute(sql)\n",
    "    \n",
    "    # transaction 2: save the new data\n",
    "    sql = \"\"\"\n",
    "        INSERT INTO pcard_expenditures.raw_data_transactions (\"Division\", \"BatchTransactionID\", \n",
    "        \"TransactionDate\", \"CardPostingDate\", \"MerchantName\", \"TransactionAmount\", \"TransactionCurrency\", \n",
    "        \"OriginalAmount\", \"OriginalCurrency\", \"GLAccount\", \"GLAccountDescription\", \"CostCenterWBSElementOrder\", \n",
    "        \"CostCenterWBSElementOrderDescription\", \"MerchantType\", \"MerchantTypeDescription\", \"Purpose\", \"SourceFileName\")\n",
    "     VALUES (%s,%s,%s,%s,%s,%s,%s,%s,%s,%s,%s,%s,%s,%s,%s,%s,%s)\n",
    "    \"\"\"\n",
    "\n",
    "    cursor.executemany(sql,raw_rows)    \n",
    "    conn.commit()\n",
    "    \n",
    "    # Close the cursor\n",
    "    cursor.close()\n",
    "    \n",
    "    print(f'{len(df_raw)} rows successfully saved in pcard_expenditures.raw_data_transactions')\n",
    "    \n",
    "except Exception as e:\n",
    "    print(f'An error occurred while inserting records: {e}')"
   ]
  },
  {
   "cell_type": "code",
   "execution_count": 9,
   "id": "add18429",
   "metadata": {},
   "outputs": [
    {
     "name": "stdout",
     "output_type": "stream",
     "text": [
      "\n",
      "Data Load job started at 2023-05-24 19:52:06.028952.\n",
      "Data Load job finished execution at 2023-05-24 19:56:40.503679.\n",
      "Total time taken is for Data Load is 0:04:34.474727\n",
      "\n"
     ]
    }
   ],
   "source": [
    "end_time = datetime.now()\n",
    "print(f\"\"\"\n",
    "Data Load job started at {start_time}.\n",
    "Data Load job finished execution at {end_time}.\n",
    "Total time taken is for Data Load is {end_time-start_time}\n",
    "\"\"\")"
   ]
  },
  {
   "cell_type": "code",
   "execution_count": null,
   "id": "96fbeb2b",
   "metadata": {},
   "outputs": [],
   "source": []
  }
 ],
 "metadata": {
  "kernelspec": {
   "display_name": "bma_venv",
   "language": "python",
   "name": "bma_venv"
  },
  "language_info": {
   "codemirror_mode": {
    "name": "ipython",
    "version": 3
   },
   "file_extension": ".py",
   "mimetype": "text/x-python",
   "name": "python",
   "nbconvert_exporter": "python",
   "pygments_lexer": "ipython3",
   "version": "3.9.6"
  }
 },
 "nbformat": 4,
 "nbformat_minor": 5
}
