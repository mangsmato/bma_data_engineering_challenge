{
 "cells": [
  {
   "cell_type": "code",
   "execution_count": 1,
   "id": "d8b12880",
   "metadata": {},
   "outputs": [],
   "source": [
    "# import necessary modules\n",
    "from datetime import datetime\n",
    "import pandas as pd\n",
    "import psycopg2"
   ]
  },
  {
   "cell_type": "code",
   "execution_count": 2,
   "id": "86b9b2dc",
   "metadata": {},
   "outputs": [
    {
     "name": "stdout",
     "output_type": "stream",
     "text": [
      "Data Transformation job started at at 2023-05-24 21:02:29.421487\n"
     ]
    }
   ],
   "source": [
    "# print start of the job\n",
    "start_time = datetime.now()\n",
    "print('Data Transformation job started at at {}'.format(start_time))"
   ]
  },
  {
   "cell_type": "code",
   "execution_count": 3,
   "id": "8b777810",
   "metadata": {},
   "outputs": [],
   "source": [
    "# Establish a connection to the PostgreSQL server\n",
    "host = \"localhost\"\n",
    "user = \"postgres\"\n",
    "password = \"mm4easy1T\"\n",
    "conn = psycopg2.connect(host=host,  user=user, password=password)"
   ]
  },
  {
   "cell_type": "code",
   "execution_count": 4,
   "id": "27cd88a8",
   "metadata": {},
   "outputs": [
    {
     "name": "stdout",
     "output_type": "stream",
     "text": [
      "(394217, 17)\n"
     ]
    },
    {
     "data": {
      "text/html": [
       "<div>\n",
       "<style scoped>\n",
       "    .dataframe tbody tr th:only-of-type {\n",
       "        vertical-align: middle;\n",
       "    }\n",
       "\n",
       "    .dataframe tbody tr th {\n",
       "        vertical-align: top;\n",
       "    }\n",
       "\n",
       "    .dataframe thead th {\n",
       "        text-align: right;\n",
       "    }\n",
       "</style>\n",
       "<table border=\"1\" class=\"dataframe\">\n",
       "  <thead>\n",
       "    <tr style=\"text-align: right;\">\n",
       "      <th></th>\n",
       "      <th>Division</th>\n",
       "      <th>BatchTransactionID</th>\n",
       "      <th>TransactionDate</th>\n",
       "      <th>CardPostingDate</th>\n",
       "      <th>MerchantName</th>\n",
       "      <th>TransactionAmount</th>\n",
       "      <th>TransactionCurrency</th>\n",
       "      <th>OriginalAmount</th>\n",
       "      <th>OriginalCurrency</th>\n",
       "      <th>GLAccount</th>\n",
       "      <th>GLAccountDescription</th>\n",
       "      <th>CostCenterWBSElementOrder</th>\n",
       "      <th>CostCenterWBSElementOrderDescription</th>\n",
       "      <th>MerchantType</th>\n",
       "      <th>MerchantTypeDescription</th>\n",
       "      <th>Purpose</th>\n",
       "      <th>SourceFileName</th>\n",
       "    </tr>\n",
       "  </thead>\n",
       "  <tbody>\n",
       "    <tr>\n",
       "      <th>0</th>\n",
       "      <td>PUBLIC HEALTH</td>\n",
       "      <td>4608-1</td>\n",
       "      <td>2017-06-15</td>\n",
       "      <td>2017-06-16</td>\n",
       "      <td>PAYPAL *OBC2012</td>\n",
       "      <td>50.0</td>\n",
       "      <td>CAD</td>\n",
       "      <td>50.0</td>\n",
       "      <td>CAD</td>\n",
       "      <td>4760</td>\n",
       "      <td>MEMBERSHIP FEES</td>\n",
       "      <td>PH3071</td>\n",
       "      <td>MATERNAL INFANT HEALTH PROGRAM SUPPORT</td>\n",
       "      <td>8641.0</td>\n",
       "      <td>Associations - Civic, Social, and Frater</td>\n",
       "      <td>MEMBERSHIP FEE</td>\n",
       "      <td>PCard Expenses_201706.xlsx</td>\n",
       "    </tr>\n",
       "    <tr>\n",
       "      <th>1</th>\n",
       "      <td>PUBLIC HEALTH</td>\n",
       "      <td>4617-1</td>\n",
       "      <td>2017-06-21</td>\n",
       "      <td>2017-06-23</td>\n",
       "      <td>CHNC</td>\n",
       "      <td>423.75</td>\n",
       "      <td>CAD</td>\n",
       "      <td>423.75</td>\n",
       "      <td>CAD</td>\n",
       "      <td>4256</td>\n",
       "      <td>CONFERENCES/SEMINARS - REGISTRATION FEES</td>\n",
       "      <td>PH3071</td>\n",
       "      <td>MATERNAL INFANT HEALTH PROGRAM SUPPORT</td>\n",
       "      <td>8641.0</td>\n",
       "      <td>Associations - Civic, Social, and Frater</td>\n",
       "      <td>CHNC CONFERENCE</td>\n",
       "      <td>PCard Expenses_201706.xlsx</td>\n",
       "    </tr>\n",
       "    <tr>\n",
       "      <th>2</th>\n",
       "      <td>PUBLIC HEALTH</td>\n",
       "      <td>4621-1</td>\n",
       "      <td>2017-06-26</td>\n",
       "      <td>2017-06-27</td>\n",
       "      <td>POST MD-CPD-UOFT</td>\n",
       "      <td>2601.0</td>\n",
       "      <td>CAD</td>\n",
       "      <td>2601.0</td>\n",
       "      <td>CAD</td>\n",
       "      <td>4256</td>\n",
       "      <td>CONFERENCES/SEMINARS - REGISTRATION FEES</td>\n",
       "      <td>PH3071</td>\n",
       "      <td>MATERNAL INFANT HEALTH PROGRAM SUPPORT</td>\n",
       "      <td>8220.0</td>\n",
       "      <td>Colleges, Universities, Professional Sch</td>\n",
       "      <td>UOFT CONFERENCE</td>\n",
       "      <td>PCard Expenses_201706.xlsx</td>\n",
       "    </tr>\n",
       "    <tr>\n",
       "      <th>3</th>\n",
       "      <td>PUBLIC HEALTH</td>\n",
       "      <td>4626-1</td>\n",
       "      <td>2017-06-28</td>\n",
       "      <td>2017-06-29</td>\n",
       "      <td>EVENTBRITE/PERINATALMO</td>\n",
       "      <td>480.66</td>\n",
       "      <td>CAD</td>\n",
       "      <td>480.66</td>\n",
       "      <td>CAD</td>\n",
       "      <td>4256</td>\n",
       "      <td>CONFERENCES/SEMINARS - REGISTRATION FEES</td>\n",
       "      <td>PH3071</td>\n",
       "      <td>MATERNAL INFANT HEALTH PROGRAM SUPPORT</td>\n",
       "      <td>7922.0</td>\n",
       "      <td>Theatrical Producers (except Motion Pict</td>\n",
       "      <td>REGISTRATION FEES</td>\n",
       "      <td>PCard Expenses_201706.xlsx</td>\n",
       "    </tr>\n",
       "    <tr>\n",
       "      <th>4</th>\n",
       "      <td>ECONOMIC DEVELOPMENT &amp; CULTURE</td>\n",
       "      <td>4590-1</td>\n",
       "      <td>2017-06-02</td>\n",
       "      <td>2017-06-05</td>\n",
       "      <td>LEE VALLEY - DOWNTOWN</td>\n",
       "      <td>38.31</td>\n",
       "      <td>CAD</td>\n",
       "      <td>38.31</td>\n",
       "      <td>CAD</td>\n",
       "      <td>2600</td>\n",
       "      <td>RECREATIONAL &amp; EDUCATIONAL SUPPLIES</td>\n",
       "      <td>AH0073</td>\n",
       "      <td>HS-MH-EDUCATION/OUTRCH-FORT YORK</td>\n",
       "      <td>5072.0</td>\n",
       "      <td>Hardware Equipment and Supplies</td>\n",
       "      <td>LEMON RASPS</td>\n",
       "      <td>PCard Expenses_201706.xlsx</td>\n",
       "    </tr>\n",
       "  </tbody>\n",
       "</table>\n",
       "</div>"
      ],
      "text/plain": [
       "                         Division BatchTransactionID TransactionDate  \\\n",
       "0                   PUBLIC HEALTH             4608-1      2017-06-15   \n",
       "1                   PUBLIC HEALTH             4617-1      2017-06-21   \n",
       "2                   PUBLIC HEALTH             4621-1      2017-06-26   \n",
       "3                   PUBLIC HEALTH             4626-1      2017-06-28   \n",
       "4  ECONOMIC DEVELOPMENT & CULTURE             4590-1      2017-06-02   \n",
       "\n",
       "  CardPostingDate            MerchantName TransactionAmount  \\\n",
       "0      2017-06-16         PAYPAL *OBC2012              50.0   \n",
       "1      2017-06-23                    CHNC            423.75   \n",
       "2      2017-06-27        POST MD-CPD-UOFT            2601.0   \n",
       "3      2017-06-29  EVENTBRITE/PERINATALMO            480.66   \n",
       "4      2017-06-05   LEE VALLEY - DOWNTOWN             38.31   \n",
       "\n",
       "  TransactionCurrency OriginalAmount OriginalCurrency GLAccount  \\\n",
       "0                 CAD           50.0              CAD      4760   \n",
       "1                 CAD         423.75              CAD      4256   \n",
       "2                 CAD         2601.0              CAD      4256   \n",
       "3                 CAD         480.66              CAD      4256   \n",
       "4                 CAD          38.31              CAD      2600   \n",
       "\n",
       "                       GLAccountDescription CostCenterWBSElementOrder  \\\n",
       "0                           MEMBERSHIP FEES                    PH3071   \n",
       "1  CONFERENCES/SEMINARS - REGISTRATION FEES                    PH3071   \n",
       "2  CONFERENCES/SEMINARS - REGISTRATION FEES                    PH3071   \n",
       "3  CONFERENCES/SEMINARS - REGISTRATION FEES                    PH3071   \n",
       "4       RECREATIONAL & EDUCATIONAL SUPPLIES                    AH0073   \n",
       "\n",
       "     CostCenterWBSElementOrderDescription MerchantType  \\\n",
       "0  MATERNAL INFANT HEALTH PROGRAM SUPPORT       8641.0   \n",
       "1  MATERNAL INFANT HEALTH PROGRAM SUPPORT       8641.0   \n",
       "2  MATERNAL INFANT HEALTH PROGRAM SUPPORT       8220.0   \n",
       "3  MATERNAL INFANT HEALTH PROGRAM SUPPORT       7922.0   \n",
       "4        HS-MH-EDUCATION/OUTRCH-FORT YORK       5072.0   \n",
       "\n",
       "                    MerchantTypeDescription            Purpose  \\\n",
       "0  Associations - Civic, Social, and Frater     MEMBERSHIP FEE   \n",
       "1  Associations - Civic, Social, and Frater    CHNC CONFERENCE   \n",
       "2  Colleges, Universities, Professional Sch    UOFT CONFERENCE   \n",
       "3  Theatrical Producers (except Motion Pict  REGISTRATION FEES   \n",
       "4           Hardware Equipment and Supplies        LEMON RASPS   \n",
       "\n",
       "               SourceFileName  \n",
       "0  PCard Expenses_201706.xlsx  \n",
       "1  PCard Expenses_201706.xlsx  \n",
       "2  PCard Expenses_201706.xlsx  \n",
       "3  PCard Expenses_201706.xlsx  \n",
       "4  PCard Expenses_201706.xlsx  "
      ]
     },
     "execution_count": 4,
     "metadata": {},
     "output_type": "execute_result"
    }
   ],
   "source": [
    "df_raw = pd.read_sql(f\"SELECT * FROM pcard_expenditures.raw_data_transactions\",conn)\n",
    "print(df_raw.shape)\n",
    "df_raw.head()"
   ]
  },
  {
   "cell_type": "markdown",
   "id": "5e8b8711",
   "metadata": {},
   "source": [
    "### Infer Tables"
   ]
  },
  {
   "cell_type": "markdown",
   "id": "4f8e55a2",
   "metadata": {},
   "source": [
    "### TRANSACTIONS"
   ]
  },
  {
   "cell_type": "code",
   "execution_count": 5,
   "id": "17e11574",
   "metadata": {},
   "outputs": [
    {
     "data": {
      "text/plain": [
       "Index(['Division', 'BatchTransactionID', 'TransactionDate', 'CardPostingDate',\n",
       "       'MerchantName', 'TransactionAmount', 'TransactionCurrency',\n",
       "       'OriginalAmount', 'OriginalCurrency', 'GLAccount',\n",
       "       'GLAccountDescription', 'CostCenterWBSElementOrder',\n",
       "       'CostCenterWBSElementOrderDescription', 'MerchantType',\n",
       "       'MerchantTypeDescription', 'Purpose', 'SourceFileName'],\n",
       "      dtype='object')"
      ]
     },
     "execution_count": 5,
     "metadata": {},
     "output_type": "execute_result"
    }
   ],
   "source": [
    "df_raw.columns"
   ]
  },
  {
   "cell_type": "code",
   "execution_count": 6,
   "id": "c27a10a2",
   "metadata": {},
   "outputs": [
    {
     "name": "stdout",
     "output_type": "stream",
     "text": [
      "(394217, 12)\n"
     ]
    },
    {
     "data": {
      "text/html": [
       "<div>\n",
       "<style scoped>\n",
       "    .dataframe tbody tr th:only-of-type {\n",
       "        vertical-align: middle;\n",
       "    }\n",
       "\n",
       "    .dataframe tbody tr th {\n",
       "        vertical-align: top;\n",
       "    }\n",
       "\n",
       "    .dataframe thead th {\n",
       "        text-align: right;\n",
       "    }\n",
       "</style>\n",
       "<table border=\"1\" class=\"dataframe\">\n",
       "  <thead>\n",
       "    <tr style=\"text-align: right;\">\n",
       "      <th></th>\n",
       "      <th>BatchTransactionID</th>\n",
       "      <th>TransactionDate</th>\n",
       "      <th>CardPostingDate</th>\n",
       "      <th>TransactionAmount</th>\n",
       "      <th>TransactionCurrency</th>\n",
       "      <th>OriginalAmount</th>\n",
       "      <th>OriginalCurrency</th>\n",
       "      <th>GLAccount</th>\n",
       "      <th>CostCenterWBSElementOrder</th>\n",
       "      <th>MerchantName</th>\n",
       "      <th>Division</th>\n",
       "      <th>Purpose</th>\n",
       "    </tr>\n",
       "  </thead>\n",
       "  <tbody>\n",
       "    <tr>\n",
       "      <th>0</th>\n",
       "      <td>1263-1</td>\n",
       "      <td>2010-12-31</td>\n",
       "      <td>2011-01-04</td>\n",
       "      <td>1508.55</td>\n",
       "      <td>CAD</td>\n",
       "      <td>1508.55</td>\n",
       "      <td>CAD</td>\n",
       "      <td>4520</td>\n",
       "      <td>AH0007</td>\n",
       "      <td>PAYPAL *KENNETHROBE</td>\n",
       "      <td>ECONOMIC DEVELOPMENT &amp; CULTURE</td>\n",
       "      <td>Audio Visual Equipment Rental Set-up &amp; Strike ...</td>\n",
       "    </tr>\n",
       "    <tr>\n",
       "      <th>1</th>\n",
       "      <td>1263-11</td>\n",
       "      <td>2010-12-30</td>\n",
       "      <td>2011-01-04</td>\n",
       "      <td>57.17</td>\n",
       "      <td>CAD</td>\n",
       "      <td>57.17</td>\n",
       "      <td>CAD</td>\n",
       "      <td>2600</td>\n",
       "      <td>D3A083</td>\n",
       "      <td>PARTY PACKAGERS (WILLI</td>\n",
       "      <td>LONG TERM CARE HOMES</td>\n",
       "      <td>Program Supplies</td>\n",
       "    </tr>\n",
       "    <tr>\n",
       "      <th>2</th>\n",
       "      <td>1263-12</td>\n",
       "      <td>2010-12-30</td>\n",
       "      <td>2011-01-04</td>\n",
       "      <td>111.75</td>\n",
       "      <td>CAD</td>\n",
       "      <td>111.75</td>\n",
       "      <td>CAD</td>\n",
       "      <td>2860</td>\n",
       "      <td>D3L083</td>\n",
       "      <td>CDN TIRE STORE #00070</td>\n",
       "      <td>LONG TERM CARE HOMES</td>\n",
       "      <td>Large Christmas tote</td>\n",
       "    </tr>\n",
       "    <tr>\n",
       "      <th>3</th>\n",
       "      <td>1263-14</td>\n",
       "      <td>2010-12-30</td>\n",
       "      <td>2011-01-04</td>\n",
       "      <td>50.01</td>\n",
       "      <td>CAD</td>\n",
       "      <td>50.01</td>\n",
       "      <td>CAD</td>\n",
       "      <td>4820</td>\n",
       "      <td>ED0057</td>\n",
       "      <td>JUMP CAFE   BAR</td>\n",
       "      <td>ECONOMIC DEVELOPMENT &amp; CULTURE</td>\n",
       "      <td>BUS MTG EXP - ASAIN DEVELOPMENT BANK</td>\n",
       "    </tr>\n",
       "    <tr>\n",
       "      <th>4</th>\n",
       "      <td>1263-15</td>\n",
       "      <td>2010-12-31</td>\n",
       "      <td>2011-01-04</td>\n",
       "      <td>22.59</td>\n",
       "      <td>CAD</td>\n",
       "      <td>22.59</td>\n",
       "      <td>CAD</td>\n",
       "      <td>2010</td>\n",
       "      <td>GV0028</td>\n",
       "      <td>RCSS 1077          QPS</td>\n",
       "      <td>CITY CLERK'S OFFICE</td>\n",
       "      <td>Superstore</td>\n",
       "    </tr>\n",
       "  </tbody>\n",
       "</table>\n",
       "</div>"
      ],
      "text/plain": [
       "  BatchTransactionID TransactionDate CardPostingDate TransactionAmount  \\\n",
       "0             1263-1      2010-12-31      2011-01-04           1508.55   \n",
       "1            1263-11      2010-12-30      2011-01-04             57.17   \n",
       "2            1263-12      2010-12-30      2011-01-04            111.75   \n",
       "3            1263-14      2010-12-30      2011-01-04             50.01   \n",
       "4            1263-15      2010-12-31      2011-01-04             22.59   \n",
       "\n",
       "  TransactionCurrency OriginalAmount OriginalCurrency GLAccount  \\\n",
       "0                 CAD        1508.55              CAD      4520   \n",
       "1                 CAD          57.17              CAD      2600   \n",
       "2                 CAD         111.75              CAD      2860   \n",
       "3                 CAD          50.01              CAD      4820   \n",
       "4                 CAD          22.59              CAD      2010   \n",
       "\n",
       "  CostCenterWBSElementOrder            MerchantName  \\\n",
       "0                    AH0007     PAYPAL *KENNETHROBE   \n",
       "1                    D3A083  PARTY PACKAGERS (WILLI   \n",
       "2                    D3L083   CDN TIRE STORE #00070   \n",
       "3                    ED0057         JUMP CAFE   BAR   \n",
       "4                    GV0028  RCSS 1077          QPS   \n",
       "\n",
       "                         Division  \\\n",
       "0  ECONOMIC DEVELOPMENT & CULTURE   \n",
       "1            LONG TERM CARE HOMES   \n",
       "2            LONG TERM CARE HOMES   \n",
       "3  ECONOMIC DEVELOPMENT & CULTURE   \n",
       "4             CITY CLERK'S OFFICE   \n",
       "\n",
       "                                             Purpose  \n",
       "0  Audio Visual Equipment Rental Set-up & Strike ...  \n",
       "1                                   Program Supplies  \n",
       "2                               Large Christmas tote  \n",
       "3               BUS MTG EXP - ASAIN DEVELOPMENT BANK  \n",
       "4                                         Superstore  "
      ]
     },
     "execution_count": 6,
     "metadata": {},
     "output_type": "execute_result"
    }
   ],
   "source": [
    "# transactions\n",
    "transactions = df_raw.groupby(['BatchTransactionID','TransactionDate', 'CardPostingDate',\n",
    "                               'TransactionAmount', 'TransactionCurrency', 'OriginalAmount','OriginalCurrency',\n",
    "                               'GLAccount','CostCenterWBSElementOrder','MerchantName',\n",
    "                               'Division','Purpose'\n",
    "                              ]).size().reset_index(name='Count').drop(columns='Count')\n",
    "print(transactions.shape)\n",
    "transactions.head()"
   ]
  },
  {
   "cell_type": "code",
   "execution_count": 7,
   "id": "380d1b08",
   "metadata": {},
   "outputs": [
    {
     "data": {
      "text/plain": [
       "Index(['BatchTransactionID', 'TransactionDate', 'CardPostingDate',\n",
       "       'TransactionAmount', 'TransactionCurrency', 'OriginalAmount',\n",
       "       'OriginalCurrency', 'GLAccount', 'CostCenterWBSElementOrder',\n",
       "       'MerchantName', 'Division', 'Purpose'],\n",
       "      dtype='object')"
      ]
     },
     "execution_count": 7,
     "metadata": {},
     "output_type": "execute_result"
    }
   ],
   "source": [
    "transactions.columns"
   ]
  },
  {
   "cell_type": "code",
   "execution_count": 8,
   "id": "fbe0369f",
   "metadata": {},
   "outputs": [
    {
     "data": {
      "text/plain": [
       "[('1263-1',\n",
       "  '2010-12-31',\n",
       "  '2011-01-04',\n",
       "  '1508.55',\n",
       "  'CAD',\n",
       "  '1508.55',\n",
       "  'CAD',\n",
       "  '4520',\n",
       "  'AH0007',\n",
       "  'PAYPAL *KENNETHROBE',\n",
       "  'ECONOMIC DEVELOPMENT & CULTURE',\n",
       "  'Audio Visual Equipment Rental Set-up & Strike Serv'),\n",
       " ('1263-11',\n",
       "  '2010-12-30',\n",
       "  '2011-01-04',\n",
       "  '57.17',\n",
       "  'CAD',\n",
       "  '57.17',\n",
       "  'CAD',\n",
       "  '2600',\n",
       "  'D3A083',\n",
       "  'PARTY PACKAGERS (WILLI',\n",
       "  'LONG TERM CARE HOMES',\n",
       "  'Program Supplies')]"
      ]
     },
     "execution_count": 8,
     "metadata": {},
     "output_type": "execute_result"
    }
   ],
   "source": [
    "# we now want to save our data in the database\n",
    "# we get all the records into individual rows and save them at once\n",
    "trxn_rows = []\n",
    "for index, row in transactions.iterrows():\n",
    "    record = (row[0],row[1],row[2],row[3],row[4],row[5],row[6],row[7],row[8],\n",
    "              row[9],row[10],row[11])\n",
    "    trxn_rows.append(record)\n",
    "trxn_rows[:2]"
   ]
  },
  {
   "cell_type": "code",
   "execution_count": 9,
   "id": "75f65bc4",
   "metadata": {},
   "outputs": [
    {
     "name": "stdout",
     "output_type": "stream",
     "text": [
      "An error occurred: set_session cannot be used inside a transaction\n"
     ]
    }
   ],
   "source": [
    "# create a table\n",
    "try:\n",
    "    # disable autocommit\n",
    "    conn.autocommit = False\n",
    "    # Create a cursor object\n",
    "    cursor = conn.cursor()\n",
    "    \n",
    "    table_name = \"pcard_expenditures.pcard_transactions\"    \n",
    "    \n",
    "    # transaction 1: create the table\n",
    "    sql = f\"\"\"\n",
    "    CREATE TABLE IF NOT EXISTS {table_name} (\n",
    "        \"BatchTransactionID\" VARCHAR(250), \n",
    "        \"TransactionDate\" DATE, \n",
    "        \"CardPostingDate\" DATE, \n",
    "        \"TransactionAmount\" VARCHAR(250), \n",
    "        \"TransactionCurrency\" VARCHAR(250), \n",
    "        \"OriginalAmount\" VARCHAR(250), \n",
    "        \"OriginalCurrency\" VARCHAR(250), \n",
    "        \"GLAccount\" VARCHAR(250), \n",
    "        \"CostCenterWBSElementOrder\" VARCHAR(250), \n",
    "        \"MerchantName\" VARCHAR(250), \n",
    "        \"Division\" VARCHAR(250), \n",
    "        \"Purpose\" VARCHAR(250)\n",
    "    )\n",
    "    \"\"\"\n",
    "    cursor.execute(sql) \n",
    "    \n",
    "    print(f'{table_name} successfully created')\n",
    "    \n",
    "    # transaction 2: truncate the table\n",
    "    sql = f'TRUNCATE TABLE {table_name}'\n",
    "    cursor.execute(sql)\n",
    "    \n",
    "    # transaction 3: save the new data\n",
    "    sql = f\"\"\"\n",
    "        INSERT INTO {table_name} (\"BatchTransactionID\",  \"TransactionDate\", \"CardPostingDate\",\n",
    "         \"TransactionAmount\", \"TransactionCurrency\",\"OriginalAmount\", \"OriginalCurrency\",\"GLAccount\",\n",
    "         \"CostCenterWBSElementOrder\", \"MerchantName\",\"Division\", \"Purpose\")\n",
    "     VALUES (%s,%s,%s,%s,%s,%s,%s,%s,%s,%s,%s,%s)\n",
    "    \"\"\"\n",
    "    \n",
    "    \n",
    "    cursor.executemany(sql,trxn_rows)\n",
    "    # Commit the changes\n",
    "    conn.commit()\n",
    "    \n",
    "    # Close the cursor and the connection\n",
    "    cursor.close()\n",
    "\n",
    "    print(f'{len(transactions)} rows successfully saved in {table_name}')\n",
    "    \n",
    "except Exception as e:\n",
    "    print(f'An error occurred: {e}')"
   ]
  },
  {
   "cell_type": "markdown",
   "id": "a026aa31",
   "metadata": {},
   "source": [
    "### MERCHANTS"
   ]
  },
  {
   "cell_type": "code",
   "execution_count": 10,
   "id": "411c7f61",
   "metadata": {},
   "outputs": [
    {
     "name": "stdout",
     "output_type": "stream",
     "text": [
      "(29780, 2)\n"
     ]
    },
    {
     "data": {
      "text/html": [
       "<div>\n",
       "<style scoped>\n",
       "    .dataframe tbody tr th:only-of-type {\n",
       "        vertical-align: middle;\n",
       "    }\n",
       "\n",
       "    .dataframe tbody tr th {\n",
       "        vertical-align: top;\n",
       "    }\n",
       "\n",
       "    .dataframe thead th {\n",
       "        text-align: right;\n",
       "    }\n",
       "</style>\n",
       "<table border=\"1\" class=\"dataframe\">\n",
       "  <thead>\n",
       "    <tr style=\"text-align: right;\">\n",
       "      <th></th>\n",
       "      <th>MerchantName</th>\n",
       "      <th>MerchantType</th>\n",
       "    </tr>\n",
       "  </thead>\n",
       "  <tbody>\n",
       "    <tr>\n",
       "      <th>0</th>\n",
       "      <td>ONTARS ASSOC OF ONTAR</td>\n",
       "      <td>8641.0</td>\n",
       "    </tr>\n",
       "    <tr>\n",
       "      <th>1</th>\n",
       "      <td>\"77\" AUTO PARTS</td>\n",
       "      <td>5533.0</td>\n",
       "    </tr>\n",
       "    <tr>\n",
       "      <th>2</th>\n",
       "      <td>#0345  1052 CLONSILLA</td>\n",
       "      <td>5541.0</td>\n",
       "    </tr>\n",
       "    <tr>\n",
       "      <th>3</th>\n",
       "      <td>#061 MARK S</td>\n",
       "      <td>5651.0</td>\n",
       "    </tr>\n",
       "    <tr>\n",
       "      <th>4</th>\n",
       "      <td>#068 MARK S</td>\n",
       "      <td>5651.0</td>\n",
       "    </tr>\n",
       "  </tbody>\n",
       "</table>\n",
       "</div>"
      ],
      "text/plain": [
       "             MerchantName MerchantType\n",
       "0   ONTARS ASSOC OF ONTAR       8641.0\n",
       "1         \"77\" AUTO PARTS       5533.0\n",
       "2   #0345  1052 CLONSILLA       5541.0\n",
       "3             #061 MARK S       5651.0\n",
       "4             #068 MARK S       5651.0"
      ]
     },
     "execution_count": 10,
     "metadata": {},
     "output_type": "execute_result"
    }
   ],
   "source": [
    "# merchants\n",
    "merchants = df_raw.groupby(['MerchantName','MerchantType']).size().reset_index(name='Count').drop(columns='Count')\n",
    "print(merchants.shape)\n",
    "merchants.head()"
   ]
  },
  {
   "cell_type": "code",
   "execution_count": 11,
   "id": "29b46e51",
   "metadata": {},
   "outputs": [
    {
     "data": {
      "text/html": [
       "<div>\n",
       "<style scoped>\n",
       "    .dataframe tbody tr th:only-of-type {\n",
       "        vertical-align: middle;\n",
       "    }\n",
       "\n",
       "    .dataframe tbody tr th {\n",
       "        vertical-align: top;\n",
       "    }\n",
       "\n",
       "    .dataframe thead th {\n",
       "        text-align: right;\n",
       "    }\n",
       "</style>\n",
       "<table border=\"1\" class=\"dataframe\">\n",
       "  <thead>\n",
       "    <tr style=\"text-align: right;\">\n",
       "      <th></th>\n",
       "      <th>MerchantName</th>\n",
       "      <th>MerchantType</th>\n",
       "    </tr>\n",
       "  </thead>\n",
       "  <tbody>\n",
       "    <tr>\n",
       "      <th>0</th>\n",
       "      <td>ONTARS ASSOC OF ONTAR</td>\n",
       "      <td>8641</td>\n",
       "    </tr>\n",
       "    <tr>\n",
       "      <th>1</th>\n",
       "      <td>\"77\" AUTO PARTS</td>\n",
       "      <td>5533</td>\n",
       "    </tr>\n",
       "    <tr>\n",
       "      <th>2</th>\n",
       "      <td>#0345  1052 CLONSILLA</td>\n",
       "      <td>5541</td>\n",
       "    </tr>\n",
       "    <tr>\n",
       "      <th>3</th>\n",
       "      <td>#061 MARK S</td>\n",
       "      <td>5651</td>\n",
       "    </tr>\n",
       "    <tr>\n",
       "      <th>4</th>\n",
       "      <td>#068 MARK S</td>\n",
       "      <td>5651</td>\n",
       "    </tr>\n",
       "  </tbody>\n",
       "</table>\n",
       "</div>"
      ],
      "text/plain": [
       "             MerchantName MerchantType\n",
       "0   ONTARS ASSOC OF ONTAR         8641\n",
       "1         \"77\" AUTO PARTS         5533\n",
       "2   #0345  1052 CLONSILLA         5541\n",
       "3             #061 MARK S         5651\n",
       "4             #068 MARK S         5651"
      ]
     },
     "execution_count": 11,
     "metadata": {},
     "output_type": "execute_result"
    }
   ],
   "source": [
    "# remove the digits after decimal point\n",
    "merchants['MerchantType'] = merchants['MerchantType'].apply(lambda x: x.replace('.0',''))\n",
    "merchants.head()"
   ]
  },
  {
   "cell_type": "code",
   "execution_count": 12,
   "id": "bbf19cdf",
   "metadata": {},
   "outputs": [
    {
     "data": {
      "text/plain": [
       "[(' ONTARS ASSOC OF ONTAR', '8641'), ('\"77\" AUTO PARTS', '5533')]"
      ]
     },
     "execution_count": 12,
     "metadata": {},
     "output_type": "execute_result"
    }
   ],
   "source": [
    "# we now want to save our data in the database\n",
    "# we get all the records into individual rows and save them at once\n",
    "merc_rows = []\n",
    "for index, row in merchants.iterrows():\n",
    "    record = (row[0],row[1])\n",
    "    merc_rows.append(record)\n",
    "merc_rows[:2]"
   ]
  },
  {
   "cell_type": "code",
   "execution_count": 13,
   "id": "d3136b90",
   "metadata": {},
   "outputs": [
    {
     "name": "stdout",
     "output_type": "stream",
     "text": [
      "An error occurred: set_session cannot be used inside a transaction\n"
     ]
    }
   ],
   "source": [
    "# create a table\n",
    "try:\n",
    "    # disable autocommit\n",
    "    conn.autocommit = False\n",
    "    # Create a cursor object\n",
    "    cursor = conn.cursor()\n",
    "    \n",
    "    table_name = \"pcard_expenditures.pcard_merchants\"    \n",
    "    \n",
    "    # transaction 1: create the table\n",
    "    sql = f\"\"\"\n",
    "    CREATE TABLE IF NOT EXISTS {table_name} (\n",
    "        \"MerchantName\" VARCHAR(250), \n",
    "        \"MerchantType\" VARCHAR(10), \n",
    "    )\n",
    "    \"\"\"\n",
    "    cursor.execute(sql) \n",
    "    # Close the cursor and the connection\n",
    "    cursor.close()\n",
    "    print(f'{table_name} successfully created')\n",
    "    \n",
    "    # transaction 2: truncate the table\n",
    "    sql = f'TRUNCATE TABLE {table_name}'\n",
    "    cursor.execute(sql)\n",
    "    \n",
    "    # transaction 3: save the new data\n",
    "    sql = f\"\"\"\n",
    "        INSERT INTO {table_name} (\"MerchantName\",  \"MerchantType\") VALUES (%s,%s)\n",
    "    \"\"\"\n",
    "    \n",
    "    \n",
    "    cursor.executemany(sql,merc_rows)\n",
    "    # Commit the changes\n",
    "    conn.commit()\n",
    "    \n",
    "    # Close the cursor and the connection\n",
    "    cursor.close()\n",
    "\n",
    "    print(f'{len(merchants)} rows successfully saved in {table_name}')\n",
    "    \n",
    "except Exception as e:\n",
    "    print(f'An error occurred: {e}')"
   ]
  },
  {
   "cell_type": "markdown",
   "id": "fcf09b1e",
   "metadata": {},
   "source": [
    "### MERCHANT TYPES"
   ]
  },
  {
   "cell_type": "code",
   "execution_count": 14,
   "id": "01e0656d",
   "metadata": {},
   "outputs": [
    {
     "name": "stdout",
     "output_type": "stream",
     "text": [
      "(364, 2)\n"
     ]
    },
    {
     "data": {
      "text/html": [
       "<div>\n",
       "<style scoped>\n",
       "    .dataframe tbody tr th:only-of-type {\n",
       "        vertical-align: middle;\n",
       "    }\n",
       "\n",
       "    .dataframe tbody tr th {\n",
       "        vertical-align: top;\n",
       "    }\n",
       "\n",
       "    .dataframe thead th {\n",
       "        text-align: right;\n",
       "    }\n",
       "</style>\n",
       "<table border=\"1\" class=\"dataframe\">\n",
       "  <thead>\n",
       "    <tr style=\"text-align: right;\">\n",
       "      <th></th>\n",
       "      <th>MerchantType</th>\n",
       "      <th>MerchantTypeDescription</th>\n",
       "    </tr>\n",
       "  </thead>\n",
       "  <tbody>\n",
       "    <tr>\n",
       "      <th>0</th>\n",
       "      <td>0.0</td>\n",
       "      <td>Default</td>\n",
       "    </tr>\n",
       "    <tr>\n",
       "      <th>1</th>\n",
       "      <td>1520.0</td>\n",
       "      <td>General Contractors - Residential and Co</td>\n",
       "    </tr>\n",
       "    <tr>\n",
       "      <th>2</th>\n",
       "      <td>1711.0</td>\n",
       "      <td>Air Conditioning, Heating, and Plumbing</td>\n",
       "    </tr>\n",
       "    <tr>\n",
       "      <th>3</th>\n",
       "      <td>1731.0</td>\n",
       "      <td>Electrical Contractors</td>\n",
       "    </tr>\n",
       "    <tr>\n",
       "      <th>4</th>\n",
       "      <td>1740.0</td>\n",
       "      <td>Insulation, Masonry, Plastering, Stonewo</td>\n",
       "    </tr>\n",
       "  </tbody>\n",
       "</table>\n",
       "</div>"
      ],
      "text/plain": [
       "  MerchantType                   MerchantTypeDescription\n",
       "0          0.0                                   Default\n",
       "1       1520.0  General Contractors - Residential and Co\n",
       "2       1711.0   Air Conditioning, Heating, and Plumbing\n",
       "3       1731.0                    Electrical Contractors\n",
       "4       1740.0  Insulation, Masonry, Plastering, Stonewo"
      ]
     },
     "execution_count": 14,
     "metadata": {},
     "output_type": "execute_result"
    }
   ],
   "source": [
    "# merchants\n",
    "merchant_types = df_raw.groupby(['MerchantType','MerchantTypeDescription']).size().reset_index(name='Count').drop(columns='Count')\n",
    "print(merchant_types.shape)\n",
    "merchant_types.head()"
   ]
  },
  {
   "cell_type": "code",
   "execution_count": 15,
   "id": "7ecfb257",
   "metadata": {},
   "outputs": [
    {
     "data": {
      "text/html": [
       "<div>\n",
       "<style scoped>\n",
       "    .dataframe tbody tr th:only-of-type {\n",
       "        vertical-align: middle;\n",
       "    }\n",
       "\n",
       "    .dataframe tbody tr th {\n",
       "        vertical-align: top;\n",
       "    }\n",
       "\n",
       "    .dataframe thead th {\n",
       "        text-align: right;\n",
       "    }\n",
       "</style>\n",
       "<table border=\"1\" class=\"dataframe\">\n",
       "  <thead>\n",
       "    <tr style=\"text-align: right;\">\n",
       "      <th></th>\n",
       "      <th>MerchantType</th>\n",
       "      <th>MerchantTypeDescription</th>\n",
       "    </tr>\n",
       "  </thead>\n",
       "  <tbody>\n",
       "    <tr>\n",
       "      <th>0</th>\n",
       "      <td>0</td>\n",
       "      <td>Default</td>\n",
       "    </tr>\n",
       "    <tr>\n",
       "      <th>1</th>\n",
       "      <td>1520</td>\n",
       "      <td>General Contractors - Residential and Co</td>\n",
       "    </tr>\n",
       "    <tr>\n",
       "      <th>2</th>\n",
       "      <td>1711</td>\n",
       "      <td>Air Conditioning, Heating, and Plumbing</td>\n",
       "    </tr>\n",
       "    <tr>\n",
       "      <th>3</th>\n",
       "      <td>1731</td>\n",
       "      <td>Electrical Contractors</td>\n",
       "    </tr>\n",
       "    <tr>\n",
       "      <th>4</th>\n",
       "      <td>1740</td>\n",
       "      <td>Insulation, Masonry, Plastering, Stonewo</td>\n",
       "    </tr>\n",
       "  </tbody>\n",
       "</table>\n",
       "</div>"
      ],
      "text/plain": [
       "  MerchantType                   MerchantTypeDescription\n",
       "0            0                                   Default\n",
       "1         1520  General Contractors - Residential and Co\n",
       "2         1711   Air Conditioning, Heating, and Plumbing\n",
       "3         1731                    Electrical Contractors\n",
       "4         1740  Insulation, Masonry, Plastering, Stonewo"
      ]
     },
     "execution_count": 15,
     "metadata": {},
     "output_type": "execute_result"
    }
   ],
   "source": [
    "# remove the digits after decimal point\n",
    "merchant_types['MerchantType'] = merchant_types['MerchantType'].apply(lambda x: x.replace('.0',''))\n",
    "merchant_types.head()"
   ]
  },
  {
   "cell_type": "code",
   "execution_count": 16,
   "id": "07b65eea",
   "metadata": {},
   "outputs": [
    {
     "data": {
      "text/plain": [
       "[('0', 'Default'), ('1520', 'General Contractors - Residential and Co')]"
      ]
     },
     "execution_count": 16,
     "metadata": {},
     "output_type": "execute_result"
    }
   ],
   "source": [
    "# we now want to save our data in the database\n",
    "# we get all the records into individual rows and save them at once\n",
    "merc_type_rows = []\n",
    "for index, row in merchant_types.iterrows():\n",
    "    record = (row[0],row[1])\n",
    "    merc_type_rows.append(record)\n",
    "merc_type_rows[:2]"
   ]
  },
  {
   "cell_type": "code",
   "execution_count": 17,
   "id": "53ff0ba2",
   "metadata": {},
   "outputs": [
    {
     "name": "stdout",
     "output_type": "stream",
     "text": [
      "An error occurred: set_session cannot be used inside a transaction\n"
     ]
    }
   ],
   "source": [
    "# create a table\n",
    "try:\n",
    "    # disable autocommit\n",
    "    conn.autocommit = False\n",
    "    # Create a cursor object\n",
    "    cursor = conn.cursor()\n",
    "    \n",
    "    table_name = \"pcard_expenditures.pcard_merchant_types\"    \n",
    "    \n",
    "    # transaction 1: create the table\n",
    "    sql = f\"\"\"\n",
    "    CREATE TABLE IF NOT EXISTS {table_name} (\n",
    "        \"MerchantType\" VARCHAR(10), \n",
    "        \"MerchantTypeDescription\" VARCHAR(250), \n",
    "    )\n",
    "    \"\"\"\n",
    "    cursor.execute(sql) \n",
    "    # Close the cursor and the connection\n",
    "    cursor.close()\n",
    "    print(f'{table_name} successfully created')\n",
    "    \n",
    "    # transaction 2: truncate the table\n",
    "    sql = f'TRUNCATE TABLE {table_name}'\n",
    "    cursor.execute(sql)\n",
    "    \n",
    "    # transaction 3: save the new data\n",
    "    sql = f\"\"\"\n",
    "        INSERT INTO {table_name} (\"MerchantType\",  \"MerchantTypeDescription\") VALUES (%s,%s)\n",
    "    \"\"\"\n",
    "    \n",
    "    \n",
    "    cursor.executemany(sql,merc_type_rows)\n",
    "    # Commit the changes\n",
    "    conn.commit()\n",
    "    \n",
    "    # Close the cursor and the connection\n",
    "    cursor.close()\n",
    "\n",
    "    print(f'{len(merchant_types)} rows successfully saved in {table_name}')\n",
    "    \n",
    "except Exception as e:\n",
    "    print(f'An error occurred: {e}')"
   ]
  },
  {
   "cell_type": "markdown",
   "id": "63f76752",
   "metadata": {},
   "source": [
    "### GL ACCOUNTS"
   ]
  },
  {
   "cell_type": "code",
   "execution_count": 18,
   "id": "d848eefd",
   "metadata": {},
   "outputs": [
    {
     "data": {
      "text/plain": [
       "Index(['Division', 'BatchTransactionID', 'TransactionDate', 'CardPostingDate',\n",
       "       'MerchantName', 'TransactionAmount', 'TransactionCurrency',\n",
       "       'OriginalAmount', 'OriginalCurrency', 'GLAccount',\n",
       "       'GLAccountDescription', 'CostCenterWBSElementOrder',\n",
       "       'CostCenterWBSElementOrderDescription', 'MerchantType',\n",
       "       'MerchantTypeDescription', 'Purpose', 'SourceFileName'],\n",
       "      dtype='object')"
      ]
     },
     "execution_count": 18,
     "metadata": {},
     "output_type": "execute_result"
    }
   ],
   "source": [
    "df_raw.columns"
   ]
  },
  {
   "cell_type": "code",
   "execution_count": 19,
   "id": "76d7f68e",
   "metadata": {},
   "outputs": [
    {
     "name": "stdout",
     "output_type": "stream",
     "text": [
      "(931, 2)\n"
     ]
    },
    {
     "data": {
      "text/html": [
       "<div>\n",
       "<style scoped>\n",
       "    .dataframe tbody tr th:only-of-type {\n",
       "        vertical-align: middle;\n",
       "    }\n",
       "\n",
       "    .dataframe tbody tr th {\n",
       "        vertical-align: top;\n",
       "    }\n",
       "\n",
       "    .dataframe thead th {\n",
       "        text-align: right;\n",
       "    }\n",
       "</style>\n",
       "<table border=\"1\" class=\"dataframe\">\n",
       "  <thead>\n",
       "    <tr style=\"text-align: right;\">\n",
       "      <th></th>\n",
       "      <th>GLAccount</th>\n",
       "      <th>GLAccountDescription</th>\n",
       "    </tr>\n",
       "  </thead>\n",
       "  <tbody>\n",
       "    <tr>\n",
       "      <th>0</th>\n",
       "      <td>****</td>\n",
       "      <td>MULTIPLE G/L ACCOUNTS USED</td>\n",
       "    </tr>\n",
       "    <tr>\n",
       "      <th>1</th>\n",
       "      <td>*****</td>\n",
       "      <td>ADVERTISING &amp; PROMOTION</td>\n",
       "    </tr>\n",
       "    <tr>\n",
       "      <th>2</th>\n",
       "      <td>*****</td>\n",
       "      <td>AGRICULTURE &amp; BOTANICAL SUPPLIES</td>\n",
       "    </tr>\n",
       "    <tr>\n",
       "      <th>3</th>\n",
       "      <td>*****</td>\n",
       "      <td>ANIMAL CARE SUPPLIES</td>\n",
       "    </tr>\n",
       "    <tr>\n",
       "      <th>4</th>\n",
       "      <td>*****</td>\n",
       "      <td>ASPHALT</td>\n",
       "    </tr>\n",
       "  </tbody>\n",
       "</table>\n",
       "</div>"
      ],
      "text/plain": [
       "  GLAccount              GLAccountDescription\n",
       "0      ****        MULTIPLE G/L ACCOUNTS USED\n",
       "1     *****           ADVERTISING & PROMOTION\n",
       "2     *****  AGRICULTURE & BOTANICAL SUPPLIES\n",
       "3     *****              ANIMAL CARE SUPPLIES\n",
       "4     *****                           ASPHALT"
      ]
     },
     "execution_count": 19,
     "metadata": {},
     "output_type": "execute_result"
    }
   ],
   "source": [
    "# merchants\n",
    "gl_accounts = df_raw.groupby(['GLAccount','GLAccountDescription']).size().reset_index(name='Count').drop(columns='Count')\n",
    "print(gl_accounts.shape)\n",
    "gl_accounts.head()"
   ]
  },
  {
   "cell_type": "code",
   "execution_count": 20,
   "id": "a245f01e",
   "metadata": {},
   "outputs": [
    {
     "data": {
      "text/plain": [
       "[('****', 'MULTIPLE G/L ACCOUNTS USED'), ('*****', 'ADVERTISING & PROMOTION')]"
      ]
     },
     "execution_count": 20,
     "metadata": {},
     "output_type": "execute_result"
    }
   ],
   "source": [
    "# we now want to save our data in the database\n",
    "# we get all the records into individual rows and save them at once\n",
    "gl_rows = []\n",
    "for index, row in gl_accounts.iterrows():\n",
    "    record = (row[0],row[1])\n",
    "    gl_rows.append(record)\n",
    "gl_rows[:2]"
   ]
  },
  {
   "cell_type": "code",
   "execution_count": 21,
   "id": "518a9c43",
   "metadata": {},
   "outputs": [
    {
     "name": "stdout",
     "output_type": "stream",
     "text": [
      "An error occurred: set_session cannot be used inside a transaction\n"
     ]
    }
   ],
   "source": [
    "# create a table\n",
    "try:\n",
    "    # disable autocommit\n",
    "    conn.autocommit = False\n",
    "    # Create a cursor object\n",
    "    cursor = conn.cursor()\n",
    "    \n",
    "    table_name = \"pcard_expenditures.pcard_gl_accounts\"    \n",
    "    \n",
    "    # transaction 1: create the table\n",
    "    sql = f\"\"\"\n",
    "    CREATE TABLE IF NOT EXISTS {table_name} (\n",
    "        \"GLAccount\" VARCHAR(250), \n",
    "        \"GLAccountDescription\" VARCHAR(250), \n",
    "    )\n",
    "    \"\"\"\n",
    "    cursor.execute(sql) \n",
    "    # Close the cursor and the connection\n",
    "    cursor.close()\n",
    "    print(f'{table_name} successfully created')\n",
    "    \n",
    "    # transaction 2: truncate the table\n",
    "    sql = f'TRUNCATE TABLE {table_name}'\n",
    "    cursor.execute(sql)\n",
    "    \n",
    "    # transaction 3: save the new data\n",
    "    sql = f\"\"\"\n",
    "        INSERT INTO {table_name} (\"GLAccount\",  \"GLAccountDescription\") VALUES (%s,%s)\n",
    "    \"\"\"\n",
    "    \n",
    "    \n",
    "    cursor.executemany(sql,gl_rows)\n",
    "    # Commit the changes\n",
    "    conn.commit()\n",
    "    \n",
    "    # Close the cursor and the connection\n",
    "    cursor.close()\n",
    "\n",
    "    print(f'{len(gl_accounts)} rows successfully saved in {table_name}')\n",
    "    \n",
    "except Exception as e:\n",
    "    print(f'An error occurred: {e}')"
   ]
  },
  {
   "cell_type": "markdown",
   "id": "6b4e0873",
   "metadata": {},
   "source": [
    "### WBS Elements"
   ]
  },
  {
   "cell_type": "code",
   "execution_count": 22,
   "id": "fb9e35c5",
   "metadata": {},
   "outputs": [
    {
     "name": "stdout",
     "output_type": "stream",
     "text": [
      "(15828, 2)\n"
     ]
    },
    {
     "data": {
      "text/html": [
       "<div>\n",
       "<style scoped>\n",
       "    .dataframe tbody tr th:only-of-type {\n",
       "        vertical-align: middle;\n",
       "    }\n",
       "\n",
       "    .dataframe tbody tr th {\n",
       "        vertical-align: top;\n",
       "    }\n",
       "\n",
       "    .dataframe thead th {\n",
       "        text-align: right;\n",
       "    }\n",
       "</style>\n",
       "<table border=\"1\" class=\"dataframe\">\n",
       "  <thead>\n",
       "    <tr style=\"text-align: right;\">\n",
       "      <th></th>\n",
       "      <th>CostCenterWBSElementOrder</th>\n",
       "      <th>CostCenterWBSElementOrderDescription</th>\n",
       "    </tr>\n",
       "  </thead>\n",
       "  <tbody>\n",
       "    <tr>\n",
       "      <th>0</th>\n",
       "      <td>*****</td>\n",
       "      <td>BLDG REPAIRS &amp; RENOVATIONS - VARIOUS LOCATIONS</td>\n",
       "    </tr>\n",
       "    <tr>\n",
       "      <th>1</th>\n",
       "      <td>*****</td>\n",
       "      <td>BLK COUNC SAL&amp;BEN-C OOTES</td>\n",
       "    </tr>\n",
       "    <tr>\n",
       "      <th>2</th>\n",
       "      <td>*****</td>\n",
       "      <td>COURT FEES</td>\n",
       "    </tr>\n",
       "    <tr>\n",
       "      <th>3</th>\n",
       "      <td>*****</td>\n",
       "      <td>MULTIPLE COST CENTRES ASSIGNED</td>\n",
       "    </tr>\n",
       "    <tr>\n",
       "      <th>4</th>\n",
       "      <td>*****</td>\n",
       "      <td>MULTIPLE COST CENTRES OR WBS ELEMENTS</td>\n",
       "    </tr>\n",
       "  </tbody>\n",
       "</table>\n",
       "</div>"
      ],
      "text/plain": [
       "  CostCenterWBSElementOrder            CostCenterWBSElementOrderDescription\n",
       "0                     *****  BLDG REPAIRS & RENOVATIONS - VARIOUS LOCATIONS\n",
       "1                     *****                       BLK COUNC SAL&BEN-C OOTES\n",
       "2                     *****                                      COURT FEES\n",
       "3                     *****                  MULTIPLE COST CENTRES ASSIGNED\n",
       "4                     *****           MULTIPLE COST CENTRES OR WBS ELEMENTS"
      ]
     },
     "execution_count": 22,
     "metadata": {},
     "output_type": "execute_result"
    }
   ],
   "source": [
    "# merchants\n",
    "wbs = df_raw.groupby(['CostCenterWBSElementOrder','CostCenterWBSElementOrderDescription']).size().reset_index(name='Count').drop(columns='Count')\n",
    "print(wbs.shape)\n",
    "wbs.head()"
   ]
  },
  {
   "cell_type": "code",
   "execution_count": 23,
   "id": "059e1eda",
   "metadata": {},
   "outputs": [
    {
     "data": {
      "text/plain": [
       "[('*****', 'BLDG REPAIRS & RENOVATIONS - VARIOUS LOCATIONS'),\n",
       " ('*****', 'BLK COUNC SAL&BEN-C OOTES')]"
      ]
     },
     "execution_count": 23,
     "metadata": {},
     "output_type": "execute_result"
    }
   ],
   "source": [
    "# we now want to save our data in the database\n",
    "# we get all the records into individual rows and save them at once\n",
    "wbs_rows = []\n",
    "for index, row in wbs.iterrows():\n",
    "    record = (row[0],row[1])\n",
    "    wbs_rows.append(record)\n",
    "wbs_rows[:2]"
   ]
  },
  {
   "cell_type": "code",
   "execution_count": 24,
   "id": "7aef95fc",
   "metadata": {},
   "outputs": [
    {
     "name": "stdout",
     "output_type": "stream",
     "text": [
      "An error occurred: set_session cannot be used inside a transaction\n"
     ]
    }
   ],
   "source": [
    "# create a table\n",
    "try:\n",
    "    # disable autocommit\n",
    "    conn.autocommit = False\n",
    "    # Create a cursor object\n",
    "    cursor = conn.cursor()\n",
    "    \n",
    "    table_name = \"pcard_expenditures.pcard_wbs_elements\"    \n",
    "    \n",
    "    # transaction 1: create the table\n",
    "    sql = f\"\"\"\n",
    "    CREATE TABLE IF NOT EXISTS {table_name} (\n",
    "        \"CostCenterWBSElementOrder\" VARCHAR(250), \n",
    "        \"CostCenterWBSElementOrderDescription\" VARCHAR(250), \n",
    "    )\n",
    "    \"\"\"\n",
    "    cursor.execute(sql) \n",
    "    # Close the cursor and the connection\n",
    "    cursor.close()\n",
    "    print(f'{table_name} successfully created')\n",
    "    \n",
    "    # transaction 2: truncate the table\n",
    "    sql = f'TRUNCATE TABLE {table_name}'\n",
    "    cursor.execute(sql)\n",
    "    \n",
    "    # transaction 3: save the new data\n",
    "    sql = f\"\"\"\n",
    "        INSERT INTO {table_name} (\"CostCenterWBSElementOrder\",  \"CostCenterWBSElementOrderDescription\") VALUES (%s,%s)\n",
    "    \"\"\"\n",
    "    \n",
    "    \n",
    "    cursor.executemany(sql,wbs_rows)\n",
    "    # Commit the changes\n",
    "    conn.commit()\n",
    "    \n",
    "    # Close the cursor and the connection\n",
    "    cursor.close()\n",
    "\n",
    "    print(f'{len(wbs)} rows successfully saved in {table_name}')\n",
    "    \n",
    "except Exception as e:\n",
    "    print(f'An error occurred: {e}')"
   ]
  },
  {
   "cell_type": "code",
   "execution_count": 25,
   "id": "49c97aaa",
   "metadata": {},
   "outputs": [
    {
     "name": "stdout",
     "output_type": "stream",
     "text": [
      "\n",
      "Data Transformation job started at 2023-05-24 21:02:29.421487.\n",
      "Data Transformation job finished execution at 2023-05-24 21:03:19.756883.\n",
      "Total time taken is for Data Transformation is 0:00:50.335396\n",
      "\n"
     ]
    }
   ],
   "source": [
    "end_time = datetime.now()\n",
    "print(f\"\"\"\n",
    "Data Transformation job started at {start_time}.\n",
    "Data Transformation job finished execution at {end_time}.\n",
    "Total time taken is for Data Transformation is {end_time-start_time}\n",
    "\"\"\")"
   ]
  },
  {
   "cell_type": "code",
   "execution_count": null,
   "id": "94405893",
   "metadata": {},
   "outputs": [],
   "source": []
  }
 ],
 "metadata": {
  "kernelspec": {
   "display_name": "bma_venv",
   "language": "python",
   "name": "bma_venv"
  },
  "language_info": {
   "codemirror_mode": {
    "name": "ipython",
    "version": 3
   },
   "file_extension": ".py",
   "mimetype": "text/x-python",
   "name": "python",
   "nbconvert_exporter": "python",
   "pygments_lexer": "ipython3",
   "version": "3.9.6"
  }
 },
 "nbformat": 4,
 "nbformat_minor": 5
}
