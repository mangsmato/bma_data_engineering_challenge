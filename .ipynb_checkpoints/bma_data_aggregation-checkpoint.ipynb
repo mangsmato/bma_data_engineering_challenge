{
 "cells": [
  {
   "cell_type": "code",
   "execution_count": 1,
   "id": "5440e36e",
   "metadata": {},
   "outputs": [],
   "source": [
    "# import necessary modules\n",
    "from datetime import datetime\n",
    "import pandas as pd\n",
    "import psycopg2"
   ]
  },
  {
   "cell_type": "code",
   "execution_count": 2,
   "id": "5bf6ac66",
   "metadata": {},
   "outputs": [
    {
     "name": "stdout",
     "output_type": "stream",
     "text": [
      "Data Aggregation job started at at 2023-05-24 21:14:30.079846\n"
     ]
    }
   ],
   "source": [
    "# print start of the job\n",
    "start_time = datetime.now()\n",
    "print('Data Aggregation job started at at {}'.format(start_time))"
   ]
  },
  {
   "cell_type": "code",
   "execution_count": 3,
   "id": "8fb6a00f",
   "metadata": {},
   "outputs": [],
   "source": [
    "# Establish a connection to the PostgreSQL server\n",
    "host = \"localhost\"\n",
    "user = \"postgres\"\n",
    "password = \"mm4easy1T\"\n",
    "conn = psycopg2.connect(host=host,  user=user, password=password)"
   ]
  },
  {
   "cell_type": "code",
   "execution_count": 4,
   "id": "10280d5a",
   "metadata": {},
   "outputs": [
    {
     "name": "stdout",
     "output_type": "stream",
     "text": [
      "Completed data aggregation\n"
     ]
    }
   ],
   "source": [
    "# create a table\n",
    "try:\n",
    "    # disable autocommit\n",
    "    conn.autocommit = False\n",
    "    # Create a cursor object\n",
    "    cursor = conn.cursor()\n",
    "    \n",
    "    table_name = \"pcard_expenditures.agg_division_transations\"   \n",
    "    \n",
    "    # transaction 1: create the table\n",
    "    sql = f\"\"\"\n",
    "    CREATE TABLE IF NOT EXISTS {table_name} (\n",
    "        \"Division\" VARCHAR(250), \n",
    "        \"TransactionAmount\" float,\n",
    "        \"SavedOn\" date DEFAULT CURRENT_DATE\n",
    "    )\n",
    "    \"\"\"\n",
    "    cursor.execute(sql) \n",
    "    \n",
    "    # transaction 2: truncate the table\n",
    "    sql = f'TRUNCATE TABLE {table_name}'\n",
    "    cursor.execute(sql)\n",
    "    \n",
    "    # transaction 3: save the aggregated data\n",
    "    sql = f\"\"\"\n",
    "        insert into {table_name} (\"Division\", \"TransactionAmount\")\n",
    "        SELECT \"Division\", SUM(CAST(\"TransactionAmount\"AS float))\n",
    "        FROM pcard_expenditures.raw_data_transactions\n",
    "        group by \"Division\"\n",
    "    \"\"\"\n",
    "    \n",
    "    cursor.execute(sql)\n",
    "    # Commit the changes\n",
    "    conn.commit()\n",
    "    \n",
    "    # Close the cursor and the connection\n",
    "    cursor.close()\n",
    "    \n",
    "    print('Completed data aggregation')\n",
    "    \n",
    "except Exception as e:\n",
    "    print(f'An error occurred: {e}')"
   ]
  },
  {
   "cell_type": "code",
   "execution_count": 5,
   "id": "a0f9cc16",
   "metadata": {},
   "outputs": [
    {
     "name": "stdout",
     "output_type": "stream",
     "text": [
      "\n",
      "Data Aggregation job started at 2023-05-24 21:14:30.079846.\n",
      "Data Aggregation job finished execution at 2023-05-24 21:14:30.500782.\n",
      "Total time taken is for Data Aggregation is 0:00:00.420936\n",
      "\n"
     ]
    }
   ],
   "source": [
    "end_time = datetime.now()\n",
    "print(f\"\"\"\n",
    "Data Aggregation job started at {start_time}.\n",
    "Data Aggregation job finished execution at {end_time}.\n",
    "Total time taken is for Data Aggregation is {end_time-start_time}\n",
    "\"\"\")"
   ]
  }
 ],
 "metadata": {
  "kernelspec": {
   "display_name": "bma_venv",
   "language": "python",
   "name": "bma_venv"
  },
  "language_info": {
   "codemirror_mode": {
    "name": "ipython",
    "version": 3
   },
   "file_extension": ".py",
   "mimetype": "text/x-python",
   "name": "python",
   "nbconvert_exporter": "python",
   "pygments_lexer": "ipython3",
   "version": "3.9.6"
  }
 },
 "nbformat": 4,
 "nbformat_minor": 5
}
