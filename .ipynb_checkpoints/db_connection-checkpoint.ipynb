{
 "cells": [
  {
   "cell_type": "code",
   "execution_count": 1,
   "id": "4a94d694",
   "metadata": {},
   "outputs": [
    {
     "name": "stdout",
     "output_type": "stream",
     "text": [
      "pcard_expenditures Database already exists\n"
     ]
    }
   ],
   "source": [
    "try:\n",
    "    # import the library to connect to db\n",
    "    import psycopg2\n",
    "    import sqlalchemy\n",
    "    \n",
    "    # Establish a connection to the PostgreSQL server\n",
    "    host = \"localhost\"\n",
    "    user = \"postgres\"\n",
    "    password = \"mm4easy!T\"\n",
    "    conn = psycopg2.connect(host=host, user=user, password=password)\n",
    "\n",
    "    # Create a cursor object\n",
    "    cursor = conn.cursor()\n",
    "\n",
    "    # Specify the database name\n",
    "    database_name = \"pcard_expenditures\"\n",
    "\n",
    "    # Check if the database already exists\n",
    "    cursor.execute(\"SELECT 1 FROM pg_catalog.pg_database WHERE datname = %s\", (database_name,))\n",
    "    exists = cursor.fetchone()\n",
    "\n",
    "    # If the database doesn't exist, create it\n",
    "    if not exists:\n",
    "        cursor.execute(\"COMMIT\")  # End any active transaction\n",
    "        cursor.execute(\"CREATE DATABASE {}\".format(database_name))\n",
    "        print(f\"{database_name} Database created successfully.\")\n",
    "    else:\n",
    "        print(f\"{database_name} Database already exists\")\n",
    "\n",
    "    # Commit the changes\n",
    "    conn.commit()\n",
    "    \n",
    "    # create an sqlachemy object\n",
    "    connection_uri = f\"postgresql://{user}:{password}@{host}:5432/{database_name}\"    \n",
    "    db_conn = sqlalchemy.create_engine(connection_uri)\n",
    "\n",
    "    # Close the cursor and the connection\n",
    "#     cursor.close()\n",
    "#     conn.close()\n",
    "    \n",
    "except Exception as e:\n",
    "        print(f\"An error occurred {e}\")"
   ]
  },
  {
   "cell_type": "code",
   "execution_count": null,
   "id": "5a30707f",
   "metadata": {},
   "outputs": [],
   "source": []
  }
 ],
 "metadata": {
  "kernelspec": {
   "display_name": "bma_venv",
   "language": "python",
   "name": "bma_venv"
  },
  "language_info": {
   "codemirror_mode": {
    "name": "ipython",
    "version": 3
   },
   "file_extension": ".py",
   "mimetype": "text/x-python",
   "name": "python",
   "nbconvert_exporter": "python",
   "pygments_lexer": "ipython3",
   "version": "3.9.6"
  }
 },
 "nbformat": 4,
 "nbformat_minor": 5
}
